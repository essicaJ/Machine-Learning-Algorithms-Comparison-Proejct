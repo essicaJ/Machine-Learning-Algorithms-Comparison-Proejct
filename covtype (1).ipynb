{
 "cells": [
  {
   "cell_type": "code",
   "execution_count": 69,
   "metadata": {},
   "outputs": [],
   "source": [
    "import statistics\n",
    "from scipy.stats import ttest_ind, ttest_rel\n",
    "import numpy as np\n",
    "from numpy import random\n",
    "import pandas as pd\n",
    "import io\n",
    "import requests\n",
    "import seaborn as sns\n",
    "from matplotlib import pyplot as plt\n",
    "import pickle\n",
    "import os\n",
    "from pandas.api.types import CategoricalDtype\n",
    "import sklearn\n",
    "from sklearn.model_selection import GridSearchCV, train_test_split\n",
    "from sklearn.model_selection import StratifiedKFold\n",
    "from sklearn.linear_model import LogisticRegression\n",
    "from sklearn import svm\n",
    "from sklearn.preprocessing import MinMaxScaler, MaxAbsScaler, StandardScaler\n",
    "from sklearn.preprocessing import LabelBinarizer\n",
    "from sklearn.metrics import make_scorer\n",
    "from sklearn.metrics import accuracy_score\n",
    "from sklearn.metrics import f1_score\n",
    "from sklearn.metrics import roc_auc_score\n",
    "from sklearn.datasets import fetch_covtype\n",
    "from sklearn.neural_network import MLPClassifier\n",
    "from sklearn.metrics import confusion_matrix\n",
    "from sklearn.datasets import make_classification"
   ]
  },
  {
   "cell_type": "code",
   "execution_count": 4,
   "metadata": {},
   "outputs": [],
   "source": [
    "covtype = pd.read_csv('Downloads\\covtype.csv', sep=' *, *', na_values='?', engine='python')"
   ]
  },
  {
   "cell_type": "code",
   "execution_count": 5,
   "metadata": {},
   "outputs": [],
   "source": [
    "index7 = covtype['Cover_Type'] == 7"
   ]
  },
  {
   "cell_type": "code",
   "execution_count": 6,
   "metadata": {},
   "outputs": [
    {
     "data": {
      "text/plain": [
       "False    560502\n",
       "True      20510\n",
       "Name: Cover_Type, dtype: int64"
      ]
     },
     "execution_count": 6,
     "metadata": {},
     "output_type": "execute_result"
    }
   ],
   "source": [
    "index7.value_counts()"
   ]
  },
  {
   "cell_type": "code",
   "execution_count": 7,
   "metadata": {},
   "outputs": [],
   "source": [
    "Y_cov = np.where(index7, 1, 0)"
   ]
  },
  {
   "cell_type": "code",
   "execution_count": 8,
   "metadata": {},
   "outputs": [
    {
     "data": {
      "text/plain": [
       "0    0.9647\n",
       "1    0.0353\n",
       "dtype: float64"
      ]
     },
     "execution_count": 8,
     "metadata": {},
     "output_type": "execute_result"
    }
   ],
   "source": [
    "pd.Series(Y_cov).value_counts(normalize=True)"
   ]
  },
  {
   "cell_type": "code",
   "execution_count": 9,
   "metadata": {},
   "outputs": [],
   "source": [
    "X_cov = covtype.drop(['Cover_Type'], axis=1)"
   ]
  },
  {
   "cell_type": "code",
   "execution_count": 10,
   "metadata": {},
   "outputs": [
    {
     "data": {
      "text/plain": [
       "(581012,)"
      ]
     },
     "execution_count": 10,
     "metadata": {},
     "output_type": "execute_result"
    }
   ],
   "source": [
    "Y_cov.shape"
   ]
  },
  {
   "cell_type": "code",
   "execution_count": 11,
   "metadata": {},
   "outputs": [
    {
     "data": {
      "text/plain": [
       "(581012, 54)"
      ]
     },
     "execution_count": 11,
     "metadata": {},
     "output_type": "execute_result"
    }
   ],
   "source": [
    "X_cov.shape"
   ]
  },
  {
   "cell_type": "code",
   "execution_count": 12,
   "metadata": {},
   "outputs": [],
   "source": [
    "letter = pd.read_csv('Downloads\\letter-recognition.csv', sep=' *, *', na_values='?', engine='python')"
   ]
  },
  {
   "cell_type": "code",
   "execution_count": 1,
   "metadata": {},
   "outputs": [
    {
     "ename": "NameError",
     "evalue": "name 'letter' is not defined",
     "output_type": "error",
     "traceback": [
      "\u001b[1;31m---------------------------------------------------------------------------\u001b[0m",
      "\u001b[1;31mNameError\u001b[0m                                 Traceback (most recent call last)",
      "\u001b[1;32m<ipython-input-1-01c1a279d5d8>\u001b[0m in \u001b[0;36m<module>\u001b[1;34m\u001b[0m\n\u001b[1;32m----> 1\u001b[1;33m \u001b[0mletter\u001b[0m\u001b[1;33m\u001b[0m\u001b[1;33m\u001b[0m\u001b[0m\n\u001b[0m",
      "\u001b[1;31mNameError\u001b[0m: name 'letter' is not defined"
     ]
    }
   ],
   "source": [
    "letter"
   ]
  },
  {
   "cell_type": "code",
   "execution_count": 11,
   "metadata": {},
   "outputs": [
    {
     "data": {
      "text/plain": [
       "20000"
      ]
     },
     "execution_count": 11,
     "metadata": {},
     "output_type": "execute_result"
    }
   ],
   "source": [
    "len(letter)"
   ]
  },
  {
   "cell_type": "code",
   "execution_count": 12,
   "metadata": {},
   "outputs": [],
   "source": [
    "letterO_Y = np.zeros(len(letter))\n",
    "for i in range(len(letter)):\n",
    "    if letter['letter'][i] == 'O':\n",
    "        letterO_Y[i] += 1\n",
    "    else:\n",
    "        letterO_Y[i] += 0"
   ]
  },
  {
   "cell_type": "code",
   "execution_count": 13,
   "metadata": {},
   "outputs": [
    {
     "data": {
      "text/plain": [
       "0.0    0.96235\n",
       "1.0    0.03765\n",
       "dtype: float64"
      ]
     },
     "execution_count": 13,
     "metadata": {},
     "output_type": "execute_result"
    }
   ],
   "source": [
    "pd.Series(letterO_Y).value_counts(normalize=True)"
   ]
  },
  {
   "cell_type": "code",
   "execution_count": 14,
   "metadata": {},
   "outputs": [],
   "source": [
    "Y_letterO = letterO_Y"
   ]
  },
  {
   "cell_type": "code",
   "execution_count": 19,
   "metadata": {},
   "outputs": [],
   "source": [
    "X_letterO = letter.drop(['letter'], axis=1)\n",
    "fit_lo = StandardScaler().fit(X_letterO)\n",
    "X_letterO = fit_lo.transform(X_letterO)"
   ]
  },
  {
   "cell_type": "code",
   "execution_count": 16,
   "metadata": {},
   "outputs": [],
   "source": [
    "AM = ['A', 'B', 'C', 'D', 'E', 'F', 'G', 'H', 'I', 'J', 'K', 'L', 'M']\n",
    "letterO_AM = np.zeros(len(letter))\n",
    "for i in range(len(letter)):\n",
    "    if letter['letter'][i] in AM:\n",
    "        letterO_AM[i] +=1\n",
    "    else:\n",
    "        letterO_AM += 0"
   ]
  },
  {
   "cell_type": "code",
   "execution_count": 17,
   "metadata": {},
   "outputs": [
    {
     "data": {
      "text/plain": [
       "0.0    0.503\n",
       "1.0    0.497\n",
       "dtype: float64"
      ]
     },
     "execution_count": 17,
     "metadata": {},
     "output_type": "execute_result"
    }
   ],
   "source": [
    "pd.Series(letterO_AM).value_counts(normalize=True)"
   ]
  },
  {
   "cell_type": "code",
   "execution_count": 18,
   "metadata": {},
   "outputs": [],
   "source": [
    "Y_letterAM = letterO_AM\n",
    "X_letterAM = letter.drop(['letter'], axis=1)"
   ]
  },
  {
   "cell_type": "code",
   "execution_count": 19,
   "metadata": {},
   "outputs": [],
   "source": [
    "## ANN\n",
    "def ANN_classifier(X, Y):\n",
    "    \n",
    "    mean_test_acc = []\n",
    "    \n",
    "    opt_train_acc = []\n",
    "    opt_train_f1= []\n",
    "    opt_train_auc = []\n",
    "    \n",
    "    opt_test_acc = []\n",
    "    opt_test_f1= []\n",
    "    opt_test_auc = []\n",
    "\n",
    "    for trial in range(5):\n",
    "        X_train, X_test, Y_train, Y_test = train_test_split(X, Y, train_size=5000,test_size=len(X)-5000,\n",
    "                                                            stratify= Y, random_state=trial, shuffle=True)\n",
    "        \n",
    "        print(pd.Series(Y_train).value_counts())\n",
    "        \n",
    "        ann_param = [{'solver': ['sgd'], 'hidden_layer_sizes': [1,2,4,8,32,128], 'momentum': [0,0.2,0.5,0.9],\n",
    "                      'class_weight':[{0: w} for w in [1, 2, 4, 6, 10]]}]\n",
    "        scoring = ['accuracy', 'roc_auc', 'f1']\n",
    "        \n",
    "        ann_classifier = GridSearchCV(MLPClassifier(early_stopping =True), ann_param, cv=5, scoring = scoring,\n",
    "                                      refit = False, n_jobs=1)\n",
    "        ann_classifier.fit(X_train, Y_train)\n",
    "        \n",
    "        ## store best parameters for each metric\n",
    "        best = []\n",
    "        best_index = np.argmin(ann_classifier.cv_results_['rank_test_accuracy'])\n",
    "        best_param = ann_classifier.cv_results_['params'][best_index]\n",
    "        best.append(best_param)\n",
    "    \n",
    "        best_index = np.argmin(ann_classifier.cv_results_['rank_test_roc_auc'])\n",
    "        best_param = ann_classifier.cv_results_['params'][best_index]\n",
    "        best.append(best_param)\n",
    "    \n",
    "        best_index = np.argmin(ann_classifier.cv_results_['rank_test_f1'])\n",
    "        best_param = ann_classifier.cv_results_['params'][best_index]\n",
    "        best.append(best_param)\n",
    "        \n",
    "        mean_test = ann_classifier.cv_results_['mean_test_accuracy']\n",
    "        mean_test_acc.append(mean_test)\n",
    "        \n",
    "        ## train samples using each best metric\n",
    "        params_ann1=best[0]\n",
    "        model1 = MLPClassifier(early_stopping=True).set_params(**params_ann1)\n",
    "        model1.fit(X_train, Y_train)\n",
    "    \n",
    "        params_ann2=best[1]\n",
    "        model2 = MLPClassifier(early_stopping=True).set_params(**params_ann2)\n",
    "        model2.fit(X_train, Y_train)\n",
    "    \n",
    "        params_ann3=best[2]\n",
    "        model3 = MLPClassifier(early_stopping=True).set_params(**params_ann3)\n",
    "        model3.fit(X_train, Y_train)\n",
    "        \n",
    "        # get score for train set\n",
    "        acc_train = []\n",
    "        for i in model1, model2, model3:\n",
    "            acc_train.append(accuracy_score(Y_train, i.predict(X_train)))\n",
    "        opt_train_acc.extend(acc_train)\n",
    "    \n",
    "        f1_train = []\n",
    "        for i in model1, model2, model3:\n",
    "            f1_train.append(f1_score(Y_train, i.predict(X_train)))\n",
    "        opt_train_f1.extend(f1_train)\n",
    "        print(pd.Series(i.predict(X_train)).value_counts())\n",
    "        \n",
    "        auc_train = []\n",
    "        for i in model1, model2, model3:\n",
    "            auc_train.append(roc_auc_score(Y_train,i.predict(X_train)))\n",
    "        opt_train_auc.extend(auc_train)\n",
    "        \n",
    "        ## get score for test set\n",
    "        acc_test = []\n",
    "        for i in model1, model2, model3:\n",
    "            acc_test.append(accuracy_score(Y_test, i.predict(X_test)))\n",
    "        opt_test_acc.extend(acc_test)\n",
    "    \n",
    "        f1_test = []\n",
    "        for i in model1, model2, model3:\n",
    "            f1_test.append(f1_score(Y_test,i.predict(X_test)))\n",
    "        opt_test_f1.extend(f1_test)\n",
    "\n",
    "        auc_test = []\n",
    "        for i in model1, model2, model3:\n",
    "            auc_test.append(roc_auc_score(Y_test,i.predict(X_test)))\n",
    "        opt_test_auc.extend(auc_test)\n",
    "    \n",
    "    return best, mean_test_acc, opt_train_acc, opt_train_f1, opt_train_auc, opt_test_acc, opt_test_f1, opt_test_auc"
   ]
  },
  {
   "cell_type": "code",
   "execution_count": 23,
   "metadata": {},
   "outputs": [],
   "source": [
    "def logistic_classifier(X, Y):\n",
    "    \n",
    "    mean_test_acc = []\n",
    "    \n",
    "    opt_train_acc = []\n",
    "    opt_train_f1= []\n",
    "    opt_train_auc = []\n",
    "    \n",
    "    opt_test_acc = []\n",
    "    opt_test_f1= []\n",
    "    opt_test_auc = []\n",
    "    \n",
    "    for trial in range(5):\n",
    "    \n",
    "        # define parameters\n",
    "        C = [10**-8, 10**-7, 10**-6, 10**-5, 10**-4, 10**-3, 10**-2, 10**-1, 10**1, 10**2, 10**3, 10**4]\n",
    "        grid ={\"C\":C, \"penalty\":[\"l1\",\"l2\"]}\n",
    "        scoring = ['accuracy', 'roc_auc', 'f1']\n",
    "                    \n",
    "        # pick random samples\n",
    "        X_train, X_test, Y_train, Y_test = train_test_split(X, Y, test_size=len(X)-5000, train_size=5000, random_state=trial, shuffle=True)\n",
    "\n",
    "        # define classifier, fit train Run Gridsearch\n",
    "        classifier = GridSearchCV(LogisticRegression(solver = 'liblinear', class_weight = 'balanced'), grid, cv=5, scoring = scoring, refit = False, n_jobs=-1)\n",
    "        classifier.fit(X_train, Y_train)\n",
    "        \n",
    "        # store best parameters for each metric for training and get accuracy score\n",
    "        best = []\n",
    "        best_index = np.argmin(classifier.cv_results_['rank_test_accuracy'])\n",
    "        best_param = classifier.cv_results_['params'][best_index]\n",
    "        best.append(best_param)\n",
    "    \n",
    "        best_index = np.argmin(classifier.cv_results_['rank_test_roc_auc'])\n",
    "        best_param = classifier.cv_results_['params'][best_index]\n",
    "        best.append(best_param)\n",
    "    \n",
    "        best_index = np.argmin(classifier.cv_results_['rank_test_f1'])\n",
    "        best_param = classifier.cv_results_['params'][best_index]\n",
    "        best.append(best_param)\n",
    "    \n",
    "        mean_test = classifier.cv_results_['mean_test_accuracy']\n",
    "        mean_test_acc.append(mean_test)\n",
    "    \n",
    "        # train samples using each best metric\n",
    "        model1 = LogisticRegression(C=best[0]['C'], penalty=best[0]['penalty'], solver='liblinear', class_weight='balanced')\n",
    "        model1.fit(X_train, Y_train)\n",
    "    \n",
    "        model2 = LogisticRegression(C=best[1]['C'], penalty=best[1]['penalty'], solver='liblinear', class_weight = 'balanced')\n",
    "        model2.fit(X_train, Y_train)\n",
    "    \n",
    "        model3 = LogisticRegression(C=best[2]['C'], penalty=best[2]['penalty'], solver='liblinear', class_weight = 'balanced')\n",
    "        model3.fit(X_train, Y_train)\n",
    "        \n",
    "        # get score for train set\n",
    "        acc_train = []\n",
    "        for i in model1, model2, model3:\n",
    "            acc_train.append(accuracy_score(Y_train, i.predict(X_train)))\n",
    "        opt_train_acc.extend(acc_train)\n",
    "\n",
    "        auc_train = []\n",
    "        for i in model1, model2, model3:\n",
    "            auc_train.append(roc_auc_score(Y_train, i.predict(X_train)))\n",
    "        opt_train_auc.extend(auc_train)\n",
    "        \n",
    "        f1_train = []\n",
    "        for i in model1, model2, model3:\n",
    "            f1_train.append(f1_score(Y_train, i.predict(X_train)))\n",
    "        opt_train_f1.extend(f1_train)\n",
    "        \n",
    "        # get score for test set\n",
    "        acc_test = []\n",
    "        for i in model1, model2, model3:\n",
    "            acc_test.append(accuracy_score(Y_test, i.predict(X_test)))\n",
    "        opt_test_acc.extend(acc_test)\n",
    "    \n",
    "        f1_test = []\n",
    "        for i in model1, model2, model3:\n",
    "            f1_test.append(f1_score(Y_test, i.predict(X_test))) \n",
    "        opt_test_f1.extend(f1_test)\n",
    "\n",
    "        auc_test = []\n",
    "        for i in model1, model2, model3:\n",
    "            auc_test.append(roc_auc_score(Y_test, i.predict(X_test)))\n",
    "        opt_test_auc.extend(auc_test)\n",
    "    \n",
    "    return best, mean_test_acc, opt_train_acc, opt_train_f1, opt_train_auc, opt_test_acc, opt_test_f1, opt_test_auc"
   ]
  },
  {
   "cell_type": "code",
   "execution_count": 24,
   "metadata": {},
   "outputs": [
    {
     "data": {
      "text/plain": [
       "([{'C': 1e-08, 'penalty': 'l1'},\n",
       "  {'C': 0.01, 'penalty': 'l2'},\n",
       "  {'C': 0.1, 'penalty': 'l1'}],\n",
       " [array([0.9594, 0.5096, 0.9594, 0.5098, 0.9594, 0.5104, 0.9594, 0.513 ,\n",
       "         0.9594, 0.529 , 0.9594, 0.6466, 0.7272, 0.7564, 0.7794, 0.7772,\n",
       "         0.7788, 0.779 , 0.7788, 0.7788, 0.7788, 0.7788, 0.7788, 0.7788]),\n",
       "  array([0.9656, 0.503 , 0.9656, 0.503 , 0.9656, 0.5032, 0.9656, 0.5046,\n",
       "         0.9656, 0.5208, 0.9656, 0.6374, 0.734 , 0.7438, 0.774 , 0.7726,\n",
       "         0.7754, 0.775 , 0.775 , 0.775 , 0.775 , 0.775 , 0.775 , 0.775 ]),\n",
       "  array([0.962 , 0.5236, 0.962 , 0.5236, 0.962 , 0.5236, 0.962 , 0.5254,\n",
       "         0.962 , 0.5488, 0.8852, 0.6792, 0.7424, 0.7754, 0.7972, 0.7952,\n",
       "         0.7972, 0.7972, 0.7972, 0.7972, 0.7972, 0.7972, 0.7972, 0.7972]),\n",
       "  array([0.9608, 0.5406, 0.9608, 0.5406, 0.9608, 0.5406, 0.9608, 0.5428,\n",
       "         0.9608, 0.5594, 0.8814, 0.6748, 0.7438, 0.7672, 0.7874, 0.7874,\n",
       "         0.79  , 0.79  , 0.7902, 0.7902, 0.7902, 0.7902, 0.7902, 0.7902]),\n",
       "  array([0.9636, 0.51  , 0.9636, 0.51  , 0.9636, 0.5104, 0.9636, 0.5134,\n",
       "         0.9636, 0.5278, 0.9636, 0.6418, 0.722 , 0.747 , 0.7702, 0.7684,\n",
       "         0.7708, 0.7708, 0.771 , 0.771 , 0.771 , 0.771 , 0.771 , 0.771 ])],\n",
       " [0.9594,\n",
       "  0.76,\n",
       "  0.7812,\n",
       "  0.9656,\n",
       "  0.7518,\n",
       "  0.774,\n",
       "  0.962,\n",
       "  0.7826,\n",
       "  0.7984,\n",
       "  0.9608,\n",
       "  0.772,\n",
       "  0.7896,\n",
       "  0.9636,\n",
       "  0.753,\n",
       "  0.7722],\n",
       " [0.0,\n",
       "  0.2433795712484237,\n",
       "  0.25476839237057225,\n",
       "  0.0,\n",
       "  0.20499679692504805,\n",
       "  0.21636615811373094,\n",
       "  0.0,\n",
       "  0.24356297842727906,\n",
       "  0.2555391432791728,\n",
       "  0.0,\n",
       "  0.2440318302387268,\n",
       "  0.2570621468926554,\n",
       "  0.0,\n",
       "  0.21587301587301586,\n",
       "  0.2267481330617787],\n",
       " [0.5,\n",
       "  0.851333602384906,\n",
       "  0.8482292401552285,\n",
       "  0.5,\n",
       "  0.8378379029305794,\n",
       "  0.8381196894086819,\n",
       "  0.5,\n",
       "  0.8490918043549622,\n",
       "  0.8522486048801838,\n",
       "  0.5,\n",
       "  0.8519855902394264,\n",
       "  0.8562507434280956,\n",
       "  0.5,\n",
       "  0.8401130832637682,\n",
       "  0.8421452976247497],\n",
       " [0.9633333333333334,\n",
       "  0.7642,\n",
       "  0.7846,\n",
       "  0.9612666666666667,\n",
       "  0.7503333333333333,\n",
       "  0.7695333333333333,\n",
       "  0.9624666666666667,\n",
       "  0.7783333333333333,\n",
       "  0.7966666666666666,\n",
       "  0.9628666666666666,\n",
       "  0.7642,\n",
       "  0.7858,\n",
       "  0.9619333333333333,\n",
       "  0.7596,\n",
       "  0.778],\n",
       " [0.0,\n",
       "  0.22280817402768624,\n",
       "  0.2323592302209551,\n",
       "  0.0,\n",
       "  0.2241557903459706,\n",
       "  0.22783113692204607,\n",
       "  0.0,\n",
       "  0.23085820032384918,\n",
       "  0.2439266236985622,\n",
       "  0.0,\n",
       "  0.22586999343401182,\n",
       "  0.2366357804704205,\n",
       "  0.0,\n",
       "  0.22783725910064243,\n",
       "  0.2358880220284534],\n",
       " [0.5,\n",
       "  0.8400094369298522,\n",
       "  0.8348568732305757,\n",
       "  0.5,\n",
       "  0.837100276110635,\n",
       "  0.8214839284416156,\n",
       "  0.5,\n",
       "  0.8302226578614181,\n",
       "  0.8337725335939293,\n",
       "  0.5,\n",
       "  0.8421682038387515,\n",
       "  0.8378498601137562,\n",
       "  0.5,\n",
       "  0.842244147591947,\n",
       "  0.8366701424294015])"
      ]
     },
     "execution_count": 24,
     "metadata": {},
     "output_type": "execute_result"
    }
   ],
   "source": [
    "logistic_classifier(X_letterO, Y_letterO)"
   ]
  },
  {
   "cell_type": "code",
   "execution_count": null,
   "metadata": {},
   "outputs": [],
   "source": [
    "pd.Series(Y_letterO).value_counts()"
   ]
  },
  {
   "cell_type": "code",
   "execution_count": null,
   "metadata": {},
   "outputs": [],
   "source": [
    "#weight of class1\n",
    "len(Y_letterO)/(2*753)"
   ]
  },
  {
   "cell_type": "code",
   "execution_count": null,
   "metadata": {},
   "outputs": [],
   "source": [
    "#of class 0\n",
    "len(Y_letterO)/(2*19247)"
   ]
  },
  {
   "cell_type": "code",
   "execution_count": null,
   "metadata": {},
   "outputs": [],
   "source": [
    "pd.Series(Y_train).value_counts()"
   ]
  },
  {
   "cell_type": "code",
   "execution_count": null,
   "metadata": {},
   "outputs": [],
   "source": [
    "if X is X_letterO:\n",
    "            weight = ['balanced']\n",
    "            grid = {\"C\":C, \"penalty\":[\"l1\",\"l2\"], 'class_weight':weight}\n",
    "        else:"
   ]
  },
  {
   "cell_type": "code",
   "execution_count": 27,
   "metadata": {},
   "outputs": [],
   "source": [
    "from sklearn.ensemble import RandomForestClassifier"
   ]
  },
  {
   "cell_type": "code",
   "execution_count": 33,
   "metadata": {},
   "outputs": [],
   "source": [
    "def RF_classifier(X, Y):\n",
    "    \n",
    "    mean_test_acc = []\n",
    "    \n",
    "    opt_train_acc = []\n",
    "    opt_train_f1= []\n",
    "    opt_train_auc = []\n",
    "    \n",
    "    opt_test_acc = []\n",
    "    opt_test_f1= []\n",
    "    opt_test_auc = []\n",
    "    \n",
    "    for trial in range(5):\n",
    "    \n",
    "        # define parameters\n",
    "        trees= [1024]\n",
    "        max_features =[1,2,4,6,8,12,16, 20]\n",
    "        grid = {'n_estimators': trees, 'max_features': max_features}\n",
    "        scoring = ['accuracy', 'roc_auc', 'f1']\n",
    "                    \n",
    "        # pick random samples\n",
    "        X_train, X_test, Y_train, Y_test = train_test_split(X, Y, test_size=len(X)-5000, train_size=5000, random_state=trial, shuffle=True)\n",
    "\n",
    "        # define classifier, fit train Run Gridsearch\n",
    "        classifier = GridSearchCV(RandomForestClassifier(class_weight = 'balanced'), grid, cv=5, scoring = scoring, refit = False, n_jobs=-1)\n",
    "        classifier.fit(X_train, Y_train)\n",
    "        \n",
    "        # store best parameters for each metric for training and get accuracy score\n",
    "        best = []\n",
    "        best_index = np.argmin(classifier.cv_results_['rank_test_accuracy'])\n",
    "        best_param = classifier.cv_results_['params'][best_index]\n",
    "        best.append(best_param)\n",
    "    \n",
    "        best_index = np.argmin(classifier.cv_results_['rank_test_roc_auc'])\n",
    "        best_param = classifier.cv_results_['params'][best_index]\n",
    "        best.append(best_param)\n",
    "    \n",
    "        best_index = np.argmin(classifier.cv_results_['rank_test_f1'])\n",
    "        best_param = classifier.cv_results_['params'][best_index]\n",
    "        best.append(best_param)\n",
    "    \n",
    "        mean_test = classifier.cv_results_['mean_test_accuracy']\n",
    "        mean_test_acc.append(mean_test)\n",
    "    \n",
    "        # train samples using each best metric\n",
    "        model1 = RandomForestClassifier(max_features =best[0]['max_features'], class_weight='balanced')\n",
    "        model1.fit(X_train, Y_train)\n",
    "    \n",
    "        model2 = RandomForestClassifier(max_features =best[1]['max_features'], class_weight = 'balanced')\n",
    "        model2.fit(X_train, Y_train)\n",
    "    \n",
    "        model3 = RandomForestClassifier(max_features =best[2]['max_features'], class_weight = 'balanced')\n",
    "        model3.fit(X_train, Y_train)\n",
    "        \n",
    "        # get score for train set\n",
    "        acc_train = []\n",
    "        for i in model1, model2, model3:\n",
    "            acc_train.append(accuracy_score(Y_train, i.predict(X_train)))\n",
    "        opt_train_acc.extend(acc_train)\n",
    "\n",
    "        auc_train = []\n",
    "        for i in model1, model2, model3:\n",
    "            auc_train.append(roc_auc_score(Y_train, i.predict(X_train)))\n",
    "        opt_train_auc.extend(auc_train)\n",
    "        \n",
    "        f1_train = []\n",
    "        for i in model1, model2, model3:\n",
    "            f1_train.append(f1_score(Y_train, i.predict(X_train)))\n",
    "        opt_train_f1.extend(f1_train)\n",
    "        \n",
    "        # get score for test set\n",
    "        acc_test = []\n",
    "        for i in model1, model2, model3:\n",
    "            acc_test.append(accuracy_score(Y_test, i.predict(X_test)))\n",
    "        opt_test_acc.extend(acc_test)\n",
    "    \n",
    "        f1_test = []\n",
    "        for i in model1, model2, model3:\n",
    "            f1_test.append(f1_score(Y_test, i.predict(X_test))) \n",
    "        opt_test_f1.extend(f1_test)\n",
    "\n",
    "        auc_test = []\n",
    "        for i in model1, model2, model3:\n",
    "            auc_test.append(roc_auc_score(Y_test, i.predict(X_test)))\n",
    "        opt_test_auc.extend(auc_test)\n",
    "    \n",
    "    return best, mean_test_acc, opt_train_acc, opt_train_f1, opt_train_auc, opt_test_acc, opt_test_f1, opt_test_auc"
   ]
  },
  {
   "cell_type": "code",
   "execution_count": 34,
   "metadata": {
    "scrolled": false
   },
   "outputs": [
    {
     "name": "stderr",
     "output_type": "stream",
     "text": [
      "C:\\Users\\Jessica\\Anaconda3\\envs\\chatbot\\lib\\site-packages\\sklearn\\model_selection\\_search.py:921: UserWarning: One or more of the test scores are non-finite: [0.9834 0.9866 0.9874 0.9874 0.9868 0.986  0.9864    nan]\n",
      "  category=UserWarning\n",
      "C:\\Users\\Jessica\\Anaconda3\\envs\\chatbot\\lib\\site-packages\\sklearn\\model_selection\\_search.py:921: UserWarning: One or more of the test scores are non-finite: [0.996094   0.99671888 0.99618598 0.99529871 0.9947106  0.99197191\n",
      " 0.99152652        nan]\n",
      "  category=UserWarning\n",
      "C:\\Users\\Jessica\\Anaconda3\\envs\\chatbot\\lib\\site-packages\\sklearn\\model_selection\\_search.py:921: UserWarning: One or more of the test scores are non-finite: [0.74382833 0.80501676 0.82353147 0.82369396 0.81537334 0.80695308\n",
      " 0.81359852        nan]\n",
      "  category=UserWarning\n",
      "C:\\Users\\Jessica\\Anaconda3\\envs\\chatbot\\lib\\site-packages\\sklearn\\model_selection\\_search.py:921: UserWarning: One or more of the test scores are non-finite: [0.9858 0.9874 0.9884 0.9886 0.9878 0.9878 0.9872    nan]\n",
      "  category=UserWarning\n",
      "C:\\Users\\Jessica\\Anaconda3\\envs\\chatbot\\lib\\site-packages\\sklearn\\model_selection\\_search.py:921: UserWarning: One or more of the test scores are non-finite: [0.99465106 0.99635436 0.99638127 0.99553893 0.99498773 0.9937543\n",
      " 0.99411309        nan]\n",
      "  category=UserWarning\n",
      "C:\\Users\\Jessica\\Anaconda3\\envs\\chatbot\\lib\\site-packages\\sklearn\\model_selection\\_search.py:921: UserWarning: One or more of the test scores are non-finite: [0.74098057 0.77926564 0.80552995 0.81196957 0.79724368 0.79977446\n",
      " 0.78886163        nan]\n",
      "  category=UserWarning\n",
      "C:\\Users\\Jessica\\Anaconda3\\envs\\chatbot\\lib\\site-packages\\sklearn\\model_selection\\_search.py:921: UserWarning: One or more of the test scores are non-finite: [0.9844 0.9876 0.9886 0.9894 0.989  0.989  0.9884    nan]\n",
      "  category=UserWarning\n",
      "C:\\Users\\Jessica\\Anaconda3\\envs\\chatbot\\lib\\site-packages\\sklearn\\model_selection\\_search.py:921: UserWarning: One or more of the test scores are non-finite: [0.99315571 0.99382318 0.99012474 0.99214356 0.98973082 0.98548255\n",
      " 0.98535398        nan]\n",
      "  category=UserWarning\n",
      "C:\\Users\\Jessica\\Anaconda3\\envs\\chatbot\\lib\\site-packages\\sklearn\\model_selection\\_search.py:921: UserWarning: One or more of the test scores are non-finite: [0.743585   0.80909434 0.82559684 0.84051664 0.83785499 0.83959267\n",
      " 0.83083863        nan]\n",
      "  category=UserWarning\n",
      "C:\\Users\\Jessica\\Anaconda3\\envs\\chatbot\\lib\\site-packages\\sklearn\\model_selection\\_search.py:921: UserWarning: One or more of the test scores are non-finite: [0.9844 0.988  0.9886 0.9886 0.9882 0.9876 0.9876    nan]\n",
      "  category=UserWarning\n",
      "C:\\Users\\Jessica\\Anaconda3\\envs\\chatbot\\lib\\site-packages\\sklearn\\model_selection\\_search.py:921: UserWarning: One or more of the test scores are non-finite: [0.99484328 0.99650159 0.9966973  0.99643309 0.99624288 0.99489546\n",
      " 0.99235804        nan]\n",
      "  category=UserWarning\n",
      "C:\\Users\\Jessica\\Anaconda3\\envs\\chatbot\\lib\\site-packages\\sklearn\\model_selection\\_search.py:921: UserWarning: One or more of the test scores are non-finite: [0.75053558 0.82320138 0.83875916 0.84050337 0.8345007  0.8263521\n",
      " 0.82649518        nan]\n",
      "  category=UserWarning\n",
      "C:\\Users\\Jessica\\Anaconda3\\envs\\chatbot\\lib\\site-packages\\sklearn\\model_selection\\_search.py:921: UserWarning: One or more of the test scores are non-finite: [0.9822 0.9854 0.9868 0.9866 0.986  0.986  0.986     nan]\n",
      "  category=UserWarning\n",
      "C:\\Users\\Jessica\\Anaconda3\\envs\\chatbot\\lib\\site-packages\\sklearn\\model_selection\\_search.py:921: UserWarning: One or more of the test scores are non-finite: [0.99598214 0.99690413 0.99680946 0.99672878 0.9966265  0.99638056\n",
      " 0.99596081        nan]\n",
      "  category=UserWarning\n",
      "C:\\Users\\Jessica\\Anaconda3\\envs\\chatbot\\lib\\site-packages\\sklearn\\model_selection\\_search.py:921: UserWarning: One or more of the test scores are non-finite: [0.67216358 0.74311073 0.78046481 0.78093293 0.77524932 0.77364513\n",
      " 0.77544882        nan]\n",
      "  category=UserWarning\n"
     ]
    },
    {
     "data": {
      "text/plain": [
       "([{'max_features': 4, 'n_estimators': 1024},\n",
       "  {'max_features': 2, 'n_estimators': 1024},\n",
       "  {'max_features': 6, 'n_estimators': 1024}],\n",
       " [array([0.9834, 0.9866, 0.9874, 0.9874, 0.9868, 0.986 , 0.9864,    nan]),\n",
       "  array([0.9858, 0.9874, 0.9884, 0.9886, 0.9878, 0.9878, 0.9872,    nan]),\n",
       "  array([0.9844, 0.9876, 0.9886, 0.9894, 0.989 , 0.989 , 0.9884,    nan]),\n",
       "  array([0.9844, 0.988 , 0.9886, 0.9886, 0.9882, 0.9876, 0.9876,    nan]),\n",
       "  array([0.9822, 0.9854, 0.9868, 0.9866, 0.986 , 0.986 , 0.986 ,    nan])],\n",
       " [1.0, 1.0, 1.0, 1.0, 1.0, 1.0, 1.0, 1.0, 1.0, 1.0, 1.0, 1.0, 1.0, 1.0, 1.0],\n",
       " [1.0, 1.0, 1.0, 1.0, 1.0, 1.0, 1.0, 1.0, 1.0, 1.0, 1.0, 1.0, 1.0, 1.0, 1.0],\n",
       " [1.0, 1.0, 1.0, 1.0, 1.0, 1.0, 1.0, 1.0, 1.0, 1.0, 1.0, 1.0, 1.0, 1.0, 1.0],\n",
       " [0.9899333333333333,\n",
       "  0.9890666666666666,\n",
       "  0.9904666666666667,\n",
       "  0.9874666666666667,\n",
       "  0.9870666666666666,\n",
       "  0.9872666666666666,\n",
       "  0.9891333333333333,\n",
       "  0.9887333333333334,\n",
       "  0.9892,\n",
       "  0.989,\n",
       "  0.9886,\n",
       "  0.9890666666666666,\n",
       "  0.989,\n",
       "  0.9875333333333334,\n",
       "  0.9890666666666666],\n",
       " [0.8470111448834854,\n",
       "  0.8288100208768266,\n",
       "  0.8571428571428571,\n",
       "  0.8138613861386138,\n",
       "  0.8048289738430583,\n",
       "  0.8107036669970268,\n",
       "  0.8428158148505304,\n",
       "  0.8273748723186924,\n",
       "  0.841796875,\n",
       "  0.8318042813455658,\n",
       "  0.8249744114636643,\n",
       "  0.8343434343434344,\n",
       "  0.8335015136226033,\n",
       "  0.8054110301768991,\n",
       "  0.8363273453093811],\n",
       " [0.8793425605536332,\n",
       "  0.8605284680717207,\n",
       "  0.8892387543252595,\n",
       "  0.8530763399172467,\n",
       "  0.8437832850827085,\n",
       "  0.8513204930528292,\n",
       "  0.8868180374804182,\n",
       "  0.859299318617264,\n",
       "  0.8817318733159359,\n",
       "  0.8656938542908289,\n",
       "  0.8611709051032157,\n",
       "  0.8700437092459419,\n",
       "  0.8614036676235431,\n",
       "  0.8387752020613284,\n",
       "  0.8664843458985535])"
      ]
     },
     "execution_count": 34,
     "metadata": {},
     "output_type": "execute_result"
    }
   ],
   "source": [
    "RF_classifier(X_letterO, Y_letterO)"
   ]
  },
  {
   "cell_type": "code",
   "execution_count": 35,
   "metadata": {},
   "outputs": [
    {
     "name": "stdout",
     "output_type": "stream",
     "text": [
      "The scikit-learn version is 0.24.1.\n"
     ]
    }
   ],
   "source": [
    "print('The scikit-learn version is {}.'.format(sklearn.__version__))\n"
   ]
  },
  {
   "cell_type": "code",
   "execution_count": 22,
   "metadata": {},
   "outputs": [
    {
     "ename": "TypeError",
     "evalue": "int() argument must be a string, a bytes-like object or a number, not 'list'",
     "output_type": "error",
     "traceback": [
      "\u001b[1;31m---------------------------------------------------------------------------\u001b[0m",
      "\u001b[1;31mTypeError\u001b[0m                                 Traceback (most recent call last)",
      "\u001b[1;32m<ipython-input-22-9c5b2fd714f0>\u001b[0m in \u001b[0;36m<module>\u001b[1;34m\u001b[0m\n\u001b[0;32m      2\u001b[0m \u001b[0mfeature_size\u001b[0m \u001b[1;33m=\u001b[0m \u001b[1;33m[\u001b[0m\u001b[1;36m1\u001b[0m\u001b[1;33m,\u001b[0m\u001b[1;36m2\u001b[0m\u001b[1;33m,\u001b[0m\u001b[1;36m4\u001b[0m\u001b[1;33m,\u001b[0m\u001b[1;36m6\u001b[0m\u001b[1;33m,\u001b[0m\u001b[1;36m8\u001b[0m\u001b[1;33m,\u001b[0m\u001b[1;36m12\u001b[0m\u001b[1;33m,\u001b[0m\u001b[1;36m16\u001b[0m\u001b[1;33m,\u001b[0m \u001b[1;36m20\u001b[0m\u001b[1;33m]\u001b[0m\u001b[1;33m\u001b[0m\u001b[1;33m\u001b[0m\u001b[0m\n\u001b[0;32m      3\u001b[0m \u001b[1;32mfor\u001b[0m \u001b[0mi\u001b[0m \u001b[1;32min\u001b[0m \u001b[0mfeature_size\u001b[0m\u001b[1;33m:\u001b[0m\u001b[1;33m\u001b[0m\u001b[1;33m\u001b[0m\u001b[0m\n\u001b[1;32m----> 4\u001b[1;33m     \u001b[0mmax_features\u001b[0m \u001b[1;33m=\u001b[0m \u001b[0mmax\u001b[0m\u001b[1;33m(\u001b[0m\u001b[0mn_features\u001b[0m\u001b[1;33m,\u001b[0m \u001b[0mint\u001b[0m\u001b[1;33m(\u001b[0m\u001b[0mfeature_size\u001b[0m\u001b[1;33m)\u001b[0m\u001b[1;33m)\u001b[0m\u001b[1;33m\u001b[0m\u001b[1;33m\u001b[0m\u001b[0m\n\u001b[0m",
      "\u001b[1;31mTypeError\u001b[0m: int() argument must be a string, a bytes-like object or a number, not 'list'"
     ]
    }
   ],
   "source": [
    "n_features = X_letterO.shape[1]\n",
    "feature_size = [1,2,4,6,8,12,16, 20]\n",
    "for i in feature_size:\n",
    "    max_features = max(n_features, int(feature_size))"
   ]
  },
  {
   "cell_type": "code",
   "execution_count": 31,
   "metadata": {},
   "outputs": [
    {
     "name": "stdout",
     "output_type": "stream",
     "text": [
      "0.826502495543075\n"
     ]
    }
   ],
   "source": [
    "##Table 2 mean over metrics\n",
    "logi_acc = [0.8026204564666103,\n",
    "  0.8000845308537616,\n",
    "  0.8000845308537616,\n",
    "  0.8045099696683408,\n",
    "  0.8045099696683408,\n",
    "  0.8045099696683408,\n",
    "  0.8021480781661777,\n",
    "  0.8006563572174432,\n",
    "  0.8006563572174432,\n",
    "  0.8009298393913779,\n",
    "  0.7978220874148476,\n",
    "  0.7978220874148476,\n",
    "  0.805355278205957,\n",
    "  0.805355278205957,\n",
    "  0.805355278205957, ## adult\n",
    "        0.9646847635118713,\n",
    "  0.9331854197481997,\n",
    "  0.932720151663507,\n",
    "  0.9647125407109574,\n",
    "  0.9225502246480977,\n",
    "  0.9340222078706694,\n",
    "  0.9647368457601577,\n",
    "  0.919336749928821,\n",
    "  0.9215137879071964,\n",
    "  0.9646569863127852,\n",
    "  0.9227880669152726,\n",
    "  0.9310431032686819,\n",
    "  0.9646864995868142,\n",
    "  0.9273209585911405,\n",
    "  0.9415046908744956, ## covertype\n",
    "           0.9633333333333334,\n",
    "  0.7642,\n",
    "  0.7846,\n",
    "  0.9612666666666667,\n",
    "  0.7503333333333333,\n",
    "  0.7694666666666666,\n",
    "  0.9624666666666667,\n",
    "  0.7783333333333333,\n",
    "  0.7966666666666666,\n",
    "  0.9628666666666666,\n",
    "  0.7642,\n",
    "  0.7836,\n",
    "  0.9619333333333333,\n",
    "  0.7596,\n",
    "  0.7781333333333333, ##LetterO\n",
    "           0.7244666666666667,\n",
    "  0.7244666666666667,\n",
    "  0.7244666666666667,\n",
    "  0.7244666666666667,\n",
    "  0.7268666666666667,\n",
    "  0.7244666666666667,\n",
    "  0.7257333333333333,\n",
    "  0.7258666666666667,\n",
    "  0.7256666666666667,\n",
    "  0.7274666666666667,\n",
    "  0.7275333333333334,\n",
    "  0.7274666666666667,\n",
    "  0.7328666666666667,\n",
    "  0.7326,\n",
    "  0.7328666666666667] ##letterAM\n",
    "logi_acc_mean = statistics.mean(logi_acc)\n",
    "print(logi_acc_mean)"
   ]
  },
  {
   "cell_type": "code",
   "execution_count": 36,
   "metadata": {},
   "outputs": [
    {
     "name": "stdout",
     "output_type": "stream",
     "text": [
      "0.47053162564180817\n"
     ]
    }
   ],
   "source": [
    "logi_f1 = [0.6769218247670208,\n",
    "  0.6762491444216291,\n",
    "  0.6762491444216291,\n",
    "  0.6819046077915774,\n",
    "  0.6819046077915774,\n",
    "  0.6819046077915774,\n",
    "  0.6779962774136117,\n",
    "  0.6778108173270112,\n",
    "  0.6778108173270112,\n",
    "  0.6776699810796668,\n",
    "  0.6755764780978217,\n",
    "  0.6755764780978217,\n",
    "  0.6803315503654404,\n",
    "  0.6803315503654404,\n",
    "  0.6803315503654404, ##adult\n",
    "           0.0,\n",
    "  0.49220213748515634,\n",
    "  0.4891782880341655,\n",
    "  0.0,\n",
    "  0.45826350941105043,\n",
    "  0.4887124983183102,\n",
    "  0.0,\n",
    "  0.4529581444634132,\n",
    "  0.45747680935066176,\n",
    "  0.0,\n",
    "  0.4572976534758575,\n",
    "  0.48470460029578893,\n",
    "  0.0,\n",
    "  0.4735015217445985,\n",
    "  0.5217045680379296, ##cov\n",
    "           0.0,\n",
    "  0.22280817402768624,\n",
    "  0.2323592302209551,\n",
    "  0.0,\n",
    "  0.2241557903459706,\n",
    "  0.22778025904421614,\n",
    "  0.0,\n",
    "  0.23085820032384918,\n",
    "  0.2439266236985622,\n",
    "  0.0,\n",
    "  0.22586999343401182,\n",
    "  0.23659454374412045,\n",
    "  0.0,\n",
    "  0.22783725910064243,\n",
    "  0.2359963269054178, ## letterO\n",
    "           0.728038428637231,\n",
    "  0.728038428637231,\n",
    "  0.728038428637231,\n",
    "  0.728716770594027,\n",
    "  0.7306200276152279,\n",
    "  0.728716770594027,\n",
    "  0.7284488448844885,\n",
    "  0.7277902820071495,\n",
    "  0.7284007656260312,\n",
    "  0.7312294543063774,\n",
    "  0.7313128656893039,\n",
    "  0.7312294543063774,\n",
    "  0.7398896462187601,\n",
    "  0.7387821556496256,\n",
    "  0.7398896462187601] ##letterAM\n",
    "logi_f1_mean = statistics.mean(logi_f1)\n",
    "print(logi_f1_mean)"
   ]
  },
  {
   "cell_type": "code",
   "execution_count": 37,
   "metadata": {},
   "outputs": [
    {
     "name": "stdout",
     "output_type": "stream",
     "text": [
      "0.7625538987107143\n"
     ]
    }
   ],
   "source": [
    "logi_roc = [0.8141608910114237,\n",
    "  0.8152152701029196,\n",
    "  0.8152152701029196,\n",
    "  0.8178152089677819,\n",
    "  0.8178152089677819,\n",
    "  0.8178152089677819,\n",
    "  0.8153525084149416,\n",
    "  0.8162485410928683,\n",
    "  0.8162485410928683,\n",
    "  0.8145117104970799,\n",
    "  0.8141157771093034,\n",
    "  0.8141157771093034,\n",
    "  0.8163050514649433,\n",
    "  0.8163050514649433,\n",
    "  0.8163050514649433, ##adult\n",
    "          0.5,\n",
    "  0.9253507489579847,\n",
    "  0.9228363308549647,\n",
    "  0.5,\n",
    "  0.9253288223330063,\n",
    "  0.91454295788458,\n",
    "  0.5,\n",
    "  0.9326755119683062,\n",
    "  0.9296534793234185,\n",
    "  0.5,\n",
    "  0.9216495348960505,\n",
    "  0.9245796265591393,\n",
    "  0.5,\n",
    "  0.9264297063918454,\n",
    "  0.9231483726195536, ##cov\n",
    "          0.5,\n",
    "  0.8400094369298522,\n",
    "  0.8348568732305757,\n",
    "  0.5,\n",
    "  0.837100276110635,\n",
    "  0.8214492519730672,\n",
    "  0.5,\n",
    "  0.8302226578614181,\n",
    "  0.8337725335939293,\n",
    "  0.5,\n",
    "  0.8421682038387515,\n",
    "  0.8410226742878679,\n",
    "  0.5,\n",
    "  0.842244147591947,\n",
    "  0.836739447301534, ##letterO\n",
    "          0.7245518089388819,\n",
    "  0.7245518089388819,\n",
    "  0.7245518089388819,\n",
    "  0.7246917939958031,\n",
    "  0.7270749237739126,\n",
    "  0.7246917939958031,\n",
    "  0.7258745212418176,\n",
    "  0.7259824404588612,\n",
    "  0.7258084273885459,\n",
    "  0.727598709811757,\n",
    "  0.7276658419277613,\n",
    "  0.727598709811757,\n",
    "  0.733187973343531,\n",
    "  0.7328897243929007,\n",
    "  0.733187973343531] ##letterAM\n",
    "logi_roc_mean = statistics.mean(logi_roc)\n",
    "print(logi_roc_mean)"
   ]
  },
  {
   "cell_type": "code",
   "execution_count": 38,
   "metadata": {},
   "outputs": [
    {
     "name": "stdout",
     "output_type": "stream",
     "text": [
      "0.929078871899423\n"
     ]
    }
   ],
   "source": [
    "svm_acc = [0.8006563572174432,\n",
    "  0.7962060563870519,\n",
    "  0.7985679478892148,\n",
    "  0.8079409278504301,\n",
    "  0.7845209089552981,\n",
    "  0.7985182238575904,\n",
    "  0.7853910795087266,\n",
    "  0.7906121028292974,\n",
    "  0.7932723385212073,\n",
    "  0.7865844562677142,\n",
    "  0.7736562080453483,\n",
    "  0.7961563323554274,\n",
    "  0.8091840286410422,\n",
    "  0.800532047138382,\n",
    "  0.800532047138382, ##adult\n",
    "          0.9779032381269834,\n",
    "  0.9305205447108741,\n",
    "  0.9733373610272008,\n",
    "  0.9771688784261439,\n",
    "  0.9360273744296994,\n",
    "  0.9771688784261439,\n",
    "  0.975800851371152,\n",
    "  0.9691846697638243,\n",
    "  0.975800851371152,\n",
    "  0.9756185635021493,\n",
    "  0.9375308153302362,\n",
    "  0.9756185635021493,\n",
    "  0.9764084776011611,\n",
    "  0.9435202738831829,\n",
    "  0.9716585765574328, ##cov\n",
    "          0.9927333333333334,\n",
    "  0.9932,\n",
    "  0.9927333333333334,\n",
    "  0.9910666666666667,\n",
    "  0.9911333333333333,\n",
    "  0.9910666666666667,\n",
    "  0.9928,\n",
    "  0.9856,\n",
    "  0.9882666666666666,\n",
    "  0.9935333333333334,\n",
    "  0.9926,\n",
    "  0.9936,\n",
    "  0.995,\n",
    "  0.9934,\n",
    "  0.995, ##letterO\n",
    "          0.9633333333333334,\n",
    "  0.9633333333333334,\n",
    "  0.9633333333333334,\n",
    "  0.9624,\n",
    "  0.9624,\n",
    "  0.9624,\n",
    "  0.9660666666666666,\n",
    "  0.9660666666666666,\n",
    "  0.9660666666666666,\n",
    "  0.9658,\n",
    "  0.9658,\n",
    "  0.9658,\n",
    "  0.9648666666666667,\n",
    "  0.9648666666666667,\n",
    "  0.9648666666666667] ##AM\n",
    "svm_acc_mean = statistics.mean(svm_acc)\n",
    "print(svm_acc_mean)"
   ]
  },
  {
   "cell_type": "code",
   "execution_count": 40,
   "metadata": {},
   "outputs": [
    {
     "name": "stdout",
     "output_type": "stream",
     "text": [
      "0.785395791517278\n"
     ]
    }
   ],
   "source": [
    "svm_f1 = [0.646566164154104,\n",
    "  0.6767617019598564,\n",
    "  0.6791032953105197,\n",
    "  0.6466633124456845,\n",
    "  0.6673319771235559,\n",
    "  0.6712906627727752,\n",
    "  0.6477309826967026,\n",
    "  0.6742224972922791,\n",
    "  0.6681036203249112,\n",
    "  0.6490883819802142,\n",
    "  0.6561673842435229,\n",
    "  0.6730470151932049,\n",
    "  0.6445936559388746,\n",
    "  0.6779334430572839,\n",
    "  0.6779334430572839, ##adult\n",
    "          0.6863479546574668,\n",
    "  0.48165369322229273,\n",
    "  0.6742459593602851,\n",
    "  0.672771156286546,\n",
    "  0.5018453177596627,\n",
    "  0.672771156286546,\n",
    "  0.6905538905538906,\n",
    "  0.6554200962882435,\n",
    "  0.6905538905538906,\n",
    "  0.6443836726425605,\n",
    "  0.4976055177806012,\n",
    "  0.6443836726425605,\n",
    "  0.6582673205079844,\n",
    "  0.5319733567349053,\n",
    "  0.6561637776701278, ##cov\n",
    "          0.8991674375578169,\n",
    "  0.9001956947162426,\n",
    "  0.8991674375578169,\n",
    "  0.8818342151675486,\n",
    "  0.8717454194792671,\n",
    "  0.8818342151675486,\n",
    "  0.8979206049149339,\n",
    "  0.7682403433476394,\n",
    "  0.8540630182421227,\n",
    "  0.910268270120259,\n",
    "  0.9013333333333333,\n",
    "  0.911275415896488,\n",
    "  0.9316317228805835,\n",
    "  0.9054441260744985,\n",
    "  0.9316317228805835, ##letterO\n",
    "          0.9631910052201846,\n",
    "  0.9631910052201846,\n",
    "  0.9631910052201846,\n",
    "  0.9620559741657697,\n",
    "  0.9620559741657697,\n",
    "  0.9620559741657697,\n",
    "  0.9656846221263399,\n",
    "  0.9656846221263399,\n",
    "  0.9656846221263399,\n",
    "  0.9655033286261853,\n",
    "  0.9655033286261853,\n",
    "  0.9655033286261853,\n",
    "  0.964403917595407,\n",
    "  0.964403917595407,\n",
    "  0.964403917595407] ##AM\n",
    "svm_f1_mean = statistics.mean(svm_f1)\n",
    "print(svm_f1_mean)"
   ]
  },
  {
   "cell_type": "code",
   "execution_count": 41,
   "metadata": {},
   "outputs": [
    {
     "name": "stdout",
     "output_type": "stream",
     "text": [
      "0.8899887604963133\n"
     ]
    }
   ],
   "source": [
    "svm_roc = [0.7796241631839779,\n",
    "  0.8188264504549373,\n",
    "  0.8201244262828081,\n",
    "  0.7745022999299213,\n",
    "  0.8134119232564071,\n",
    "  0.8086971072490617,\n",
    "  0.7893221551287704,\n",
    "  0.8190443057495005,\n",
    "  0.8091514943555119,\n",
    "  0.7889785014539118,\n",
    "  0.80539153916404,\n",
    "  0.8120707890189004,\n",
    "  0.7725367800349026,\n",
    "  0.816918659931699,\n",
    "  0.816918659931699, ##adult\n",
    "         0.8366170959894247,\n",
    "  0.9225961008712964,\n",
    "  0.8808525729807221,\n",
    "  0.8268461041683141,\n",
    "  0.9250145141685763,\n",
    "  0.8268461041683141,\n",
    "  0.8745926485462736,\n",
    "  0.9026587862067245,\n",
    "  0.8745926485462736,\n",
    "  0.8067381621780334,\n",
    "  0.9075706153569852,\n",
    "  0.8067381621780334,\n",
    "  0.8160135479985109,\n",
    "  0.9268690178805593,\n",
    "  0.8724938744415897, ##cov\n",
    "          0.9402610883925763,\n",
    "  0.9177665932683233,\n",
    "  0.9402610883925763,\n",
    "  0.9284547461342303,\n",
    "  0.8888458035922434,\n",
    "  0.9284547461342303,\n",
    "  0.921154582210624,\n",
    "  0.8175586436616691,\n",
    "  0.952938171618686,\n",
    "  0.9405439024775284,\n",
    "  0.9530049469523667,\n",
    "  0.9414415685457511,\n",
    "  0.9469408089055911,\n",
    "  0.9149919910998465,\n",
    "  0.9469408089055911, ##O\n",
    "          0.9633384721911796,\n",
    "  0.9633384721911796,\n",
    "  0.9633384721911796,\n",
    "  0.9624042333436764,\n",
    "  0.9624042333436764,\n",
    "  0.9624042333436764,\n",
    "  0.9660427383212338,\n",
    "  0.9660427383212338,\n",
    "  0.9660427383212338,\n",
    "  0.9657867997778949,\n",
    "  0.9657867997778949,\n",
    "  0.9657867997778949,\n",
    "  0.9648300659264414,\n",
    "  0.9648300659264414,\n",
    "  0.9648300659264414]##AM\n",
    "svm_roc_mean = statistics.mean(svm_roc)\n",
    "print(svm_roc_mean)"
   ]
  },
  {
   "cell_type": "code",
   "execution_count": 42,
   "metadata": {},
   "outputs": [
    {
     "name": "stdout",
     "output_type": "stream",
     "text": [
      "0.929901345252605\n"
     ]
    }
   ],
   "source": [
    "rf_acc = [0.8370792103823778,\n",
    "  0.8382477251255532,\n",
    "  0.8368554522400676,\n",
    "  0.8325294614887375,\n",
    "  0.8314603948088111,\n",
    "  0.835860971607578,\n",
    "  0.8359852816866391,\n",
    "  0.8364576599870718,\n",
    "  0.8380736910148675,\n",
    "  0.8315101188404356,\n",
    "  0.8341454925165332,\n",
    "  0.8317090149669335,\n",
    "  0.8397145840584754,\n",
    "  0.8382725871413654,\n",
    "  0.833921734374223, ##adult\n",
    "         0.9783372568627042,\n",
    "  0.9755439122796052,\n",
    "  0.978832038221426,\n",
    "  0.9773320694707749,\n",
    "  0.9757227279987223,\n",
    "  0.975920640542211,\n",
    "  0.9777400470823524,\n",
    "  0.9743512287938446,\n",
    "  0.9796688263438956,\n",
    "  0.9766602084678792,\n",
    "  0.9748234411783088,\n",
    "  0.9752921814128872,\n",
    "  0.9743547009437303,\n",
    "  0.9769102032596543,\n",
    "  0.9764345187253043, ##cov\n",
    "         0.9884,\n",
    "  0.9867333333333334,\n",
    "  0.9884666666666667,\n",
    "  0.9854,\n",
    "  0.9851333333333333,\n",
    "  0.9863333333333333,\n",
    "  0.9882,\n",
    "  0.9856666666666667,\n",
    "  0.9881333333333333,\n",
    "  0.9876,\n",
    "  0.9871333333333333,\n",
    "  0.9874,\n",
    "  0.9891333333333333,\n",
    "  0.9857333333333334,\n",
    "  0.9882,           ##O\n",
    "         0.9206,\n",
    "  0.9186666666666666,\n",
    "  0.9214666666666667,\n",
    "  0.9217333333333333,\n",
    "  0.9061333333333333,\n",
    "  0.923,\n",
    "  0.9256,\n",
    "  0.9228,\n",
    "  0.9202,\n",
    "  0.9203333333333333,\n",
    "  0.9214,\n",
    "  0.92,\n",
    "  0.9211333333333334,\n",
    "  0.9243333333333333,\n",
    "  0.9192666666666667] ##AM\n",
    "rf_acc_mean = statistics.mean(rf_acc)\n",
    "print(rf_acc_mean)"
   ]
  },
  {
   "cell_type": "code",
   "execution_count": 43,
   "metadata": {},
   "outputs": [
    {
     "name": "stdout",
     "output_type": "stream",
     "text": [
      "0.7266099947765778\n"
     ]
    }
   ],
   "source": [
    "rf_f1 = [0.6403600241479611,\n",
    "  0.6411472697186983,\n",
    "  0.6352418010005558,\n",
    "  0.6305802347263355,\n",
    "  0.6243697013354019,\n",
    "  0.6395107567980779,\n",
    "  0.6373880063760787,\n",
    "  0.6374958668577098,\n",
    "  0.644971381847915,\n",
    "  0.6214600904876277,\n",
    "  0.6280871940681273,\n",
    "  0.6220758193289041,\n",
    "  0.6399731948400067,\n",
    "  0.6384303262742482,\n",
    "  0.6251823588822804, ##adult\n",
    "        0.6093544549495962,\n",
    "  0.5138558166821962,\n",
    "  0.6286132009381378,\n",
    "  0.5841587311697825,\n",
    "  0.5254835425856803,\n",
    "  0.5442597095353882,\n",
    "  0.5970712085978255,\n",
    "  0.47084527220630373,\n",
    "  0.6464817218583029,\n",
    "  0.5578795053933175,\n",
    "  0.5017179769103903,\n",
    "  0.5239178430454272,\n",
    "  0.48346038184488427,\n",
    "  0.5583449558344955,\n",
    "  0.5357729138166895, ## cov\n",
    "        0.8238866396761133,\n",
    "  0.78625134264232,\n",
    "  0.8243654822335026,\n",
    "  0.7735263702171664,\n",
    "  0.7684319833852544,\n",
    "  0.790602655771195,\n",
    "  0.8217522658610272,\n",
    "  0.7724867724867724,\n",
    "  0.8244575936883629,\n",
    "  0.811740890688259,\n",
    "  0.7991675338189386,\n",
    "  0.8029197080291971,\n",
    "  0.8371628371628371,\n",
    "  0.773784355179704,\n",
    "  0.8238805970149254, ##O\n",
    "        0.9189520244981286,\n",
    "  0.9165298303229337,\n",
    "  0.9199728260869565,\n",
    "  0.9198415949747372,\n",
    "  0.903177004538578,\n",
    "  0.9214979949704343,\n",
    "  0.923853711790393,\n",
    "  0.9206631953959988,\n",
    "  0.9179968486675344,\n",
    "  0.917852478174194,\n",
    "  0.9188966086537801,\n",
    "  0.9177856947108797,\n",
    "  0.9185430007574191,\n",
    "  0.9223188009034289,\n",
    "  0.9168097822353507] ##AM\n",
    "rf_f1_mean = statistics.mean(rf_f1)\n",
    "print(rf_f1_mean)"
   ]
  },
  {
   "cell_type": "code",
   "execution_count": 44,
   "metadata": {},
   "outputs": [
    {
     "name": "stdout",
     "output_type": "stream",
     "text": [
      "0.8050098061255767\n"
     ]
    }
   ],
   "source": [
    "rf_roc = [0.753100293779156,\n",
    "  0.753132497654158,\n",
    "  0.7488948445206453,\n",
    "  0.7465690814567973,\n",
    "  0.7419998053703764,\n",
    "  0.7523746352793929,\n",
    "  0.7508884595424785,\n",
    "  0.7507305321236742,\n",
    "  0.756252847890528,\n",
    "  0.739411389727349,\n",
    "  0.7435063218990879,\n",
    "  0.7398113097433457,\n",
    "  0.7512658458690523,\n",
    "  0.7507472468454419,\n",
    "  0.7420475382050769, ##adult\n",
    "         0.7375286635108119,\n",
    "  0.6819249928743367,\n",
    "  0.7516851959624034,\n",
    "  0.7238863584042314,\n",
    "  0.6892097295527458,\n",
    "  0.7020861995945574,\n",
    "  0.73204338041861,\n",
    "  0.6608696479954992,\n",
    "  0.7616922196920412,\n",
    "  0.7069101031689757,\n",
    "  0.6780149873092356,\n",
    "  0.6907980245423058,\n",
    "  0.6687183834692195,\n",
    "  0.7054224458001981,\n",
    "  0.6915829555580741, ##cov\n",
    "         0.8689273356401384,\n",
    "  0.8322082415854042,\n",
    "  0.8680874488832967,\n",
    "  0.8214427464049574,\n",
    "  0.818000405613219,\n",
    "  0.8326650304466556,\n",
    "  0.8615826514441197,\n",
    "  0.8235675405273429,\n",
    "  0.8700826805409576,\n",
    "  0.8589255279622701,\n",
    "  0.8440113932674859,\n",
    "  0.8450129158752085,\n",
    "  0.8665189983346197,\n",
    "  0.8201784958512356,\n",
    "  0.8618288426972389, ##O\n",
    "         0.9205206085646004,\n",
    "  0.9185605404696967,\n",
    "  0.9213957421413627,\n",
    "  0.921590197829748,\n",
    "  0.9059202634553365,\n",
    "  0.9229010632217282,\n",
    "  0.9254707575813472,\n",
    "  0.9226358779837242,\n",
    "  0.9200362605013445,\n",
    "  0.9201681801734967,\n",
    "  0.921230275674052,\n",
    "  0.9198574807933878,\n",
    "  0.9209148236733536,\n",
    "  0.9241706532313412,\n",
    "  0.9190694494061238] ##AM\n",
    "rf_roc_mean = statistics.mean(rf_roc)\n",
    "print(rf_roc_mean)"
   ]
  },
  {
   "cell_type": "code",
   "execution_count": 45,
   "metadata": {},
   "outputs": [
    {
     "name": "stdout",
     "output_type": "stream",
     "text": [
      "0.7655229905305609\n"
     ]
    }
   ],
   "source": [
    "logi_adult = [0.8026204564666103,\n",
    "  0.8000845308537616,\n",
    "  0.8000845308537616,\n",
    "  0.8045099696683408,\n",
    "  0.8045099696683408,\n",
    "  0.8045099696683408,\n",
    "  0.8021480781661777,\n",
    "  0.8006563572174432,\n",
    "  0.8006563572174432,\n",
    "  0.8009298393913779,\n",
    "  0.7978220874148476,\n",
    "  0.7978220874148476,\n",
    "  0.805355278205957,\n",
    "  0.805355278205957,\n",
    "  0.805355278205957, ##acc\n",
    "             0.6769218247670208,\n",
    "  0.6762491444216291,\n",
    "  0.6762491444216291,\n",
    "  0.6819046077915774,\n",
    "  0.6819046077915774,\n",
    "  0.6819046077915774,\n",
    "  0.6779962774136117,\n",
    "  0.6778108173270112,\n",
    "  0.6778108173270112,\n",
    "  0.6776699810796668,\n",
    "  0.6755764780978217,\n",
    "  0.6755764780978217,\n",
    "  0.6803315503654404,\n",
    "  0.6803315503654404,\n",
    "  0.6803315503654404, ##f1\n",
    "             0.8141608910114237,\n",
    "  0.8152152701029196,\n",
    "  0.8152152701029196,\n",
    "  0.8178152089677819,\n",
    "  0.8178152089677819,\n",
    "  0.8178152089677819,\n",
    "  0.8153525084149416,\n",
    "  0.8162485410928683,\n",
    "  0.8162485410928683,\n",
    "  0.8145117104970799,\n",
    "  0.8141157771093034,\n",
    "  0.8141157771093034,\n",
    "  0.8163050514649433,\n",
    "  0.8163050514649433,\n",
    "  0.8163050514649433] ##roc\n",
    "logi_adult_mean = statistics.mean(logi_adult)\n",
    "print(logi_adult_mean)"
   ]
  },
  {
   "cell_type": "code",
   "execution_count": 46,
   "metadata": {},
   "outputs": [
    {
     "name": "stdout",
     "output_type": "stream",
     "text": [
      "0.6807035071045433\n"
     ]
    }
   ],
   "source": [
    "logi_cov = [0.9646847635118713,\n",
    "  0.9331854197481997,\n",
    "  0.932720151663507,\n",
    "  0.9647125407109574,\n",
    "  0.9225502246480977,\n",
    "  0.9340222078706694,\n",
    "  0.9647368457601577,\n",
    "  0.919336749928821,\n",
    "  0.9215137879071964,\n",
    "  0.9646569863127852,\n",
    "  0.9227880669152726,\n",
    "  0.9310431032686819,\n",
    "  0.9646864995868142,\n",
    "  0.9273209585911405,\n",
    "  0.9415046908744956, ##acc\n",
    " 0.0,\n",
    "  0.49220213748515634,\n",
    "  0.4891782880341655,\n",
    "  0.0,\n",
    "  0.45826350941105043,\n",
    "  0.4887124983183102,\n",
    "  0.0,\n",
    "  0.4529581444634132,\n",
    "  0.45747680935066176,\n",
    "  0.0,\n",
    "  0.4572976534758575,\n",
    "  0.48470460029578893,\n",
    "  0.0,\n",
    "  0.4735015217445985,\n",
    "  0.5217045680379296, ##f1\n",
    " 0.5,\n",
    "  0.9253507489579847,\n",
    "  0.9228363308549647,\n",
    "  0.5,\n",
    "  0.9253288223330063,\n",
    "  0.91454295788458,\n",
    "  0.5,\n",
    "  0.9326755119683062,\n",
    "  0.9296534793234185,\n",
    "  0.5,\n",
    "  0.9216495348960505,\n",
    "  0.9245796265591393,\n",
    "  0.5,\n",
    "  0.9264297063918454,\n",
    "  0.9231483726195536] ##roc\n",
    "logi_cov_mean = statistics.mean(logi_cov)\n",
    "print(logi_cov_mean)"
   ]
  },
  {
   "cell_type": "code",
   "execution_count": 48,
   "metadata": {},
   "outputs": [
    {
     "name": "stdout",
     "output_type": "stream",
     "text": [
      "0.5713060423014447\n"
     ]
    }
   ],
   "source": [
    "logi_letterO = [0.9633333333333334,\n",
    "  0.7642,\n",
    "  0.7846,\n",
    "  0.9612666666666667,\n",
    "  0.7503333333333333,\n",
    "  0.7694666666666666,\n",
    "  0.9624666666666667,\n",
    "  0.7783333333333333,\n",
    "  0.7966666666666666,\n",
    "  0.9628666666666666,\n",
    "  0.7642,\n",
    "  0.7836,\n",
    "  0.9619333333333333,\n",
    "  0.7596,\n",
    "  0.7781333333333333, ##acc\n",
    " 0.0,\n",
    "  0.22280817402768624,\n",
    "  0.2323592302209551,\n",
    "  0.0,\n",
    "  0.2241557903459706,\n",
    "  0.22778025904421614,\n",
    "  0.0,\n",
    "  0.23085820032384918,\n",
    "  0.2439266236985622,\n",
    "  0.0,\n",
    "  0.22586999343401182,\n",
    "  0.23659454374412045,\n",
    "  0.0,\n",
    "  0.22783725910064243,\n",
    "  0.2359963269054178, ##f1\n",
    " 0.5,\n",
    "  0.8400094369298522,\n",
    "  0.8348568732305757,\n",
    "  0.5,\n",
    "  0.837100276110635,\n",
    "  0.8214492519730672,\n",
    "  0.5,\n",
    "  0.8302226578614181,\n",
    "  0.8337725335939293,\n",
    "  0.5,\n",
    "  0.8421682038387515,\n",
    "  0.8410226742878679,\n",
    "  0.5,\n",
    "  0.842244147591947,\n",
    "  0.836739447301534] ##roc\n",
    "logi_letterO_mean = statistics.mean(logi_letterO)\n",
    "print(logi_letterO_mean)"
   ]
  },
  {
   "cell_type": "code",
   "execution_count": 49,
   "metadata": {},
   "outputs": [
    {
     "name": "stdout",
     "output_type": "stream",
     "text": [
      "0.7285848199242476\n"
     ]
    }
   ],
   "source": [
    "logi_letterAM = [0.7244666666666667,\n",
    "  0.7244666666666667,\n",
    "  0.7244666666666667,\n",
    "  0.7244666666666667,\n",
    "  0.7268666666666667,\n",
    "  0.7244666666666667,\n",
    "  0.7257333333333333,\n",
    "  0.7258666666666667,\n",
    "  0.7256666666666667,\n",
    "  0.7274666666666667,\n",
    "  0.7275333333333334,\n",
    "  0.7274666666666667,\n",
    "  0.7328666666666667,\n",
    "  0.7326,\n",
    "  0.7328666666666667, ##acc\n",
    " 0.728038428637231,\n",
    "  0.728038428637231,\n",
    "  0.728038428637231,\n",
    "  0.728716770594027,\n",
    "  0.7306200276152279,\n",
    "  0.728716770594027,\n",
    "  0.7284488448844885,\n",
    "  0.7277902820071495,\n",
    "  0.7284007656260312,\n",
    "  0.7312294543063774,\n",
    "  0.7313128656893039,\n",
    "  0.7312294543063774,\n",
    "  0.7398896462187601,\n",
    "  0.7387821556496256,\n",
    "  0.7398896462187601, ##f1\n",
    " 0.7245518089388819,\n",
    "  0.7245518089388819,\n",
    "  0.7245518089388819,\n",
    "  0.7246917939958031,\n",
    "  0.7270749237739126,\n",
    "  0.7246917939958031,\n",
    "  0.7258745212418176,\n",
    "  0.7259824404588612,\n",
    "  0.7258084273885459,\n",
    "  0.727598709811757,\n",
    "  0.7276658419277613,\n",
    "  0.727598709811757,\n",
    "  0.733187973343531,\n",
    "  0.7328897243929007,\n",
    "  0.733187973343531] ##roc\n",
    "logi_letterAM_mean = statistics.mean(logi_letterAM)\n",
    "print(logi_letterAM_mean)"
   ]
  },
  {
   "cell_type": "code",
   "execution_count": 50,
   "metadata": {},
   "outputs": [
    {
     "name": "stdout",
     "output_type": "stream",
     "text": [
      "0.7538752856728751\n"
     ]
    }
   ],
   "source": [
    "svm_adult = [0.8006563572174432,\n",
    "  0.7962060563870519,\n",
    "  0.7985679478892148,\n",
    "  0.8079409278504301,\n",
    "  0.7845209089552981,\n",
    "  0.7985182238575904,\n",
    "  0.7853910795087266,\n",
    "  0.7906121028292974,\n",
    "  0.7932723385212073,\n",
    "  0.7865844562677142,\n",
    "  0.7736562080453483,\n",
    "  0.7961563323554274,\n",
    "  0.8091840286410422,\n",
    "  0.800532047138382,\n",
    "  0.800532047138382, ##acc\n",
    " 0.646566164154104,\n",
    "  0.6767617019598564,\n",
    "  0.6791032953105197,\n",
    "  0.6466633124456845,\n",
    "  0.6673319771235559,\n",
    "  0.6712906627727752,\n",
    "  0.6477309826967026,\n",
    "  0.6742224972922791,\n",
    "  0.6681036203249112,\n",
    "  0.6490883819802142,\n",
    "  0.6561673842435229,\n",
    "  0.6730470151932049,\n",
    "  0.6445936559388746,\n",
    "  0.6779334430572839,\n",
    "  0.6779334430572839, ##f1\n",
    " 0.7796241631839779,\n",
    "  0.8188264504549373,\n",
    "  0.8201244262828081,\n",
    "  0.7745022999299213,\n",
    "  0.8134119232564071,\n",
    "  0.8086971072490617,\n",
    "  0.7893221551287704,\n",
    "  0.8190443057495005,\n",
    "  0.8091514943555119,\n",
    "  0.7889785014539118,\n",
    "  0.80539153916404,\n",
    "  0.8120707890189004,\n",
    "  0.7725367800349026,\n",
    "  0.816918659931699,\n",
    "  0.816918659931699] ##roc\n",
    "svm_adult_mean = statistics.mean(svm_adult)\n",
    "print(svm_adult_mean)"
   ]
  },
  {
   "cell_type": "code",
   "execution_count": 51,
   "metadata": {},
   "outputs": [
    {
     "name": "stdout",
     "output_type": "stream",
     "text": [
      "0.8186499623701484\n"
     ]
    }
   ],
   "source": [
    "svm_cov = [0.9779032381269834,\n",
    "  0.9305205447108741,\n",
    "  0.9733373610272008,\n",
    "  0.9771688784261439,\n",
    "  0.9360273744296994,\n",
    "  0.9771688784261439,\n",
    "  0.975800851371152,\n",
    "  0.9691846697638243,\n",
    "  0.975800851371152,\n",
    "  0.9756185635021493,\n",
    "  0.9375308153302362,\n",
    "  0.9756185635021493,\n",
    "  0.9764084776011611,\n",
    "  0.9435202738831829,\n",
    "  0.9716585765574328, ##acc\n",
    " 0.6863479546574668,\n",
    "  0.48165369322229273,\n",
    "  0.6742459593602851,\n",
    "  0.672771156286546,\n",
    "  0.5018453177596627,\n",
    "  0.672771156286546,\n",
    "  0.6905538905538906,\n",
    "  0.6554200962882435,\n",
    "  0.6905538905538906,\n",
    "  0.6443836726425605,\n",
    "  0.4976055177806012,\n",
    "  0.6443836726425605,\n",
    "  0.6582673205079844,\n",
    "  0.5319733567349053,\n",
    "  0.6561637776701278, ##f1\n",
    " 0.8366170959894247,\n",
    "  0.9225961008712964,\n",
    "  0.8808525729807221,\n",
    "  0.8268461041683141,\n",
    "  0.9250145141685763,\n",
    "  0.8268461041683141,\n",
    "  0.8745926485462736,\n",
    "  0.9026587862067245,\n",
    "  0.8745926485462736,\n",
    "  0.8067381621780334,\n",
    "  0.9075706153569852,\n",
    "  0.8067381621780334,\n",
    "  0.8160135479985109,\n",
    "  0.9268690178805593,\n",
    "  0.8724938744415897] ##roc\n",
    "svm_cov_mean = statistics.mean(svm_cov)\n",
    "print(svm_cov_mean)"
   ]
  },
  {
   "cell_type": "code",
   "execution_count": 52,
   "metadata": {},
   "outputs": [
    {
     "name": "stdout",
     "output_type": "stream",
     "text": [
      "0.9357121289102633\n"
     ]
    }
   ],
   "source": [
    "svm_letterO = [0.9927333333333334,\n",
    "  0.9932,\n",
    "  0.9927333333333334,\n",
    "  0.9910666666666667,\n",
    "  0.9911333333333333,\n",
    "  0.9910666666666667,\n",
    "  0.9928,\n",
    "  0.9856,\n",
    "  0.9882666666666666,\n",
    "  0.9935333333333334,\n",
    "  0.9926,\n",
    "  0.9936,\n",
    "  0.995,\n",
    "  0.9934,\n",
    "  0.995,            ##acc\n",
    " 0.8991674375578169,\n",
    "  0.9001956947162426,\n",
    "  0.8991674375578169,\n",
    "  0.8818342151675486,\n",
    "  0.8717454194792671,\n",
    "  0.8818342151675486,\n",
    "  0.8979206049149339,\n",
    "  0.7682403433476394,\n",
    "  0.8540630182421227,\n",
    "  0.910268270120259,\n",
    "  0.9013333333333333,\n",
    "  0.911275415896488,\n",
    "  0.9316317228805835,\n",
    "  0.9054441260744985,\n",
    "  0.9316317228805835, ##f1\n",
    " 0.9402610883925763,\n",
    "  0.9177665932683233,\n",
    "  0.9402610883925763,\n",
    "  0.9284547461342303,\n",
    "  0.8888458035922434,\n",
    "  0.9284547461342303,\n",
    "  0.921154582210624,\n",
    "  0.8175586436616691,\n",
    "  0.952938171618686,\n",
    "  0.9405439024775284,\n",
    "  0.9530049469523667,\n",
    "  0.9414415685457511,\n",
    "  0.9469408089055911,\n",
    "  0.9149919910998465,\n",
    "  0.9469408089055911] ##roc\n",
    "svm_letterO_mean = statistics.mean(svm_letterO)\n",
    "print(svm_letterO_mean)"
   ]
  },
  {
   "cell_type": "code",
   "execution_count": 53,
   "metadata": {},
   "outputs": [
    {
     "name": "stdout",
     "output_type": "stream",
     "text": [
      "0.9643805215973986\n"
     ]
    }
   ],
   "source": [
    "svm_letterAM = [0.9633333333333334,\n",
    "  0.9633333333333334,\n",
    "  0.9633333333333334,\n",
    "  0.9624,\n",
    "  0.9624,\n",
    "  0.9624,\n",
    "  0.9660666666666666,\n",
    "  0.9660666666666666,\n",
    "  0.9660666666666666,\n",
    "  0.9658,\n",
    "  0.9658,\n",
    "  0.9658,\n",
    "  0.9648666666666667,\n",
    "  0.9648666666666667,\n",
    "  0.9648666666666667, #acc\n",
    " 0.9631910052201846,\n",
    "  0.9631910052201846,\n",
    "  0.9631910052201846,\n",
    "  0.9620559741657697,\n",
    "  0.9620559741657697,\n",
    "  0.9620559741657697,\n",
    "  0.9656846221263399,\n",
    "  0.9656846221263399,\n",
    "  0.9656846221263399,\n",
    "  0.9655033286261853,\n",
    "  0.9655033286261853,\n",
    "  0.9655033286261853,\n",
    "  0.964403917595407,\n",
    "  0.964403917595407,\n",
    "  0.964403917595407, #f1\n",
    " 0.9633384721911796,\n",
    "  0.9633384721911796,\n",
    "  0.9633384721911796,\n",
    "  0.9624042333436764,\n",
    "  0.9624042333436764,\n",
    "  0.9624042333436764,\n",
    "  0.9660427383212338,\n",
    "  0.9660427383212338,\n",
    "  0.9660427383212338,\n",
    "  0.9657867997778949,\n",
    "  0.9657867997778949,\n",
    "  0.9657867997778949,\n",
    "  0.9648300659264414,\n",
    "  0.9648300659264414,\n",
    "  0.9648300659264414] #roc\n",
    "svm_letterAM_mean = statistics.mean(svm_letterAM)\n",
    "print(svm_letterAM_mean)"
   ]
  },
  {
   "cell_type": "code",
   "execution_count": 54,
   "metadata": {},
   "outputs": [
    {
     "name": "stdout",
     "output_type": "stream",
     "text": [
      "0.7390851123741369\n"
     ]
    }
   ],
   "source": [
    "rf_adult = [0.8370792103823778,\n",
    "  0.8382477251255532,\n",
    "  0.8368554522400676,\n",
    "  0.8325294614887375,\n",
    "  0.8314603948088111,\n",
    "  0.835860971607578,\n",
    "  0.8359852816866391,\n",
    "  0.8364576599870718,\n",
    "  0.8380736910148675,\n",
    "  0.8315101188404356,\n",
    "  0.8341454925165332,\n",
    "  0.8317090149669335,\n",
    "  0.8397145840584754,\n",
    "  0.8382725871413654,\n",
    "  0.833921734374223, #acc\n",
    " 0.6403600241479611,\n",
    "  0.6411472697186983,\n",
    "  0.6352418010005558,\n",
    "  0.6305802347263355,\n",
    "  0.6243697013354019,\n",
    "  0.6395107567980779,\n",
    "  0.6373880063760787,\n",
    "  0.6374958668577098,\n",
    "  0.644971381847915,\n",
    "  0.6214600904876277,\n",
    "  0.6280871940681273,\n",
    "  0.6220758193289041,\n",
    "  0.6399731948400067,\n",
    "  0.6384303262742482,\n",
    "  0.6251823588822804, #f1\n",
    " 0.753100293779156,\n",
    "  0.753132497654158,\n",
    "  0.7488948445206453,\n",
    "  0.7465690814567973,\n",
    "  0.7419998053703764,\n",
    "  0.7523746352793929,\n",
    "  0.7508884595424785,\n",
    "  0.7507305321236742,\n",
    "  0.756252847890528,\n",
    "  0.739411389727349,\n",
    "  0.7435063218990879,\n",
    "  0.7398113097433457,\n",
    "  0.7512658458690523,\n",
    "  0.7507472468454419,\n",
    "  0.7420475382050769] #roc\n",
    "rf_adult_mean = statistics.mean(rf_adult)\n",
    "print(rf_adult_mean)"
   ]
  },
  {
   "cell_type": "code",
   "execution_count": 55,
   "metadata": {},
   "outputs": [
    {
     "name": "stdout",
     "output_type": "stream",
     "text": [
      "0.7447003227734437\n"
     ]
    }
   ],
   "source": [
    "rf_cov = [0.9783372568627042,\n",
    "  0.9755439122796052,\n",
    "  0.978832038221426,\n",
    "  0.9773320694707749,\n",
    "  0.9757227279987223,\n",
    "  0.975920640542211,\n",
    "  0.9777400470823524,\n",
    "  0.9743512287938446,\n",
    "  0.9796688263438956,\n",
    "  0.9766602084678792,\n",
    "  0.9748234411783088,\n",
    "  0.9752921814128872,\n",
    "  0.9743547009437303,\n",
    "  0.9769102032596543,\n",
    "  0.9764345187253043, #acc\n",
    " 0.6093544549495962,\n",
    "  0.5138558166821962,\n",
    "  0.6286132009381378,\n",
    "  0.5841587311697825,\n",
    "  0.5254835425856803,\n",
    "  0.5442597095353882,\n",
    "  0.5970712085978255,\n",
    "  0.47084527220630373,\n",
    "  0.6464817218583029,\n",
    "  0.5578795053933175,\n",
    "  0.5017179769103903,\n",
    "  0.5239178430454272,\n",
    "  0.48346038184488427,\n",
    "  0.5583449558344955,\n",
    "  0.5357729138166895, #f1\n",
    " 0.7375286635108119,\n",
    "  0.6819249928743367,\n",
    "  0.7516851959624034,\n",
    "  0.7238863584042314,\n",
    "  0.6892097295527458,\n",
    "  0.7020861995945574,\n",
    "  0.73204338041861,\n",
    "  0.6608696479954992,\n",
    "  0.7616922196920412,\n",
    "  0.7069101031689757,\n",
    "  0.6780149873092356,\n",
    "  0.6907980245423058,\n",
    "  0.6687183834692195,\n",
    "  0.7054224458001981,\n",
    "  0.6915829555580741] #roc\n",
    "rf_cov_mean =statistics.mean(rf_cov)\n",
    "print(rf_cov_mean)"
   ]
  },
  {
   "cell_type": "code",
   "execution_count": 56,
   "metadata": {},
   "outputs": [
    {
     "name": "stdout",
     "output_type": "stream",
     "text": [
      "0.8785583099910309\n"
     ]
    }
   ],
   "source": [
    "rf_letterO = [0.9884,\n",
    "  0.9867333333333334,\n",
    "  0.9884666666666667,\n",
    "  0.9854,\n",
    "  0.9851333333333333,\n",
    "  0.9863333333333333,\n",
    "  0.9882,\n",
    "  0.9856666666666667,\n",
    "  0.9881333333333333,\n",
    "  0.9876,\n",
    "  0.9871333333333333,\n",
    "  0.9874,\n",
    "  0.9891333333333333,\n",
    "  0.9857333333333334,\n",
    "  0.9882,            #acc\n",
    " 0.8238866396761133,\n",
    "  0.78625134264232,\n",
    "  0.8243654822335026,\n",
    "  0.7735263702171664,\n",
    "  0.7684319833852544,\n",
    "  0.790602655771195,\n",
    "  0.8217522658610272,\n",
    "  0.7724867724867724,\n",
    "  0.8244575936883629,\n",
    "  0.811740890688259,\n",
    "  0.7991675338189386,\n",
    "  0.8029197080291971,\n",
    "  0.8371628371628371,\n",
    "  0.773784355179704,\n",
    "  0.8238805970149254, #f1\n",
    "0.8689273356401384,\n",
    "  0.8322082415854042,\n",
    "  0.8680874488832967,\n",
    "  0.8214427464049574,\n",
    "  0.818000405613219,\n",
    "  0.8326650304466556,\n",
    "  0.8615826514441197,\n",
    "  0.8235675405273429,\n",
    "  0.8700826805409576,\n",
    "  0.8589255279622701,\n",
    "  0.8440113932674859,\n",
    "  0.8450129158752085,\n",
    "  0.8665189983346197,\n",
    "  0.8201784958512356,\n",
    "  0.8618288426972389] #roc\n",
    "rf_letterO_mean =statistics.mean(rf_letterO)\n",
    "print(rf_letterO_mean)"
   ]
  },
  {
   "cell_type": "code",
   "execution_count": 58,
   "metadata": {},
   "outputs": [
    {
     "name": "stdout",
     "output_type": "stream",
     "text": [
      "0.9196844497344012\n"
     ]
    }
   ],
   "source": [
    "rf_letterAM = [0.9206,\n",
    "  0.9186666666666666,\n",
    "  0.9214666666666667,\n",
    "  0.9217333333333333,\n",
    "  0.9061333333333333,\n",
    "  0.923,\n",
    "  0.9256,\n",
    "  0.9228,\n",
    "  0.9202,\n",
    "  0.9203333333333333,\n",
    "  0.9214,\n",
    "  0.92,\n",
    "  0.9211333333333334,\n",
    "  0.9243333333333333,\n",
    "  0.9192666666666667, #acc\n",
    " 0.9189520244981286,\n",
    "  0.9165298303229337,\n",
    "  0.9199728260869565,\n",
    "  0.9198415949747372,\n",
    "  0.903177004538578,\n",
    "  0.9214979949704343,\n",
    "  0.923853711790393,\n",
    "  0.9206631953959988,\n",
    "  0.9179968486675344,\n",
    "  0.917852478174194,\n",
    "  0.9188966086537801,\n",
    "  0.9177856947108797,\n",
    "  0.9185430007574191,\n",
    "  0.9223188009034289,\n",
    "  0.9168097822353507, #f1\n",
    " 0.9205206085646004,\n",
    "  0.9185605404696967,\n",
    "  0.9213957421413627,\n",
    "  0.921590197829748,\n",
    "  0.9059202634553365,\n",
    "  0.9229010632217282,\n",
    "  0.9254707575813472,\n",
    "  0.9226358779837242,\n",
    "  0.9200362605013445,\n",
    "  0.9201681801734967,\n",
    "  0.921230275674052,\n",
    "  0.9198574807933878,\n",
    "  0.9209148236733536,\n",
    "  0.9241706532313412,\n",
    "  0.9190694494061238] #roc\n",
    "rf_letterAM_mean=statistics.mean(rf_letterAM)\n",
    "print(rf_letterAM_mean)"
   ]
  },
  {
   "cell_type": "code",
   "execution_count": 86,
   "metadata": {},
   "outputs": [
    {
     "name": "stdout",
     "output_type": "stream",
     "text": [
      "ttest_ind:   t = -7.36624  p = 2.59607e-11\n"
     ]
    }
   ],
   "source": [
    "t, p = ttest_ind(logi_acc, rf_acc)\n",
    "print(\"ttest_ind:   t = %g  p = %g\" % (t, p))"
   ]
  },
  {
   "cell_type": "code",
   "execution_count": 85,
   "metadata": {},
   "outputs": [
    {
     "name": "stdout",
     "output_type": "stream",
     "text": [
      "ttest_ind:   t = -0.0636439  p = 0.949361\n"
     ]
    }
   ],
   "source": [
    "t, p = ttest_ind(svm_acc, rf_acc)\n",
    "print(\"ttest_ind:   t = %g  p = %g\" % (t, p))"
   ]
  },
  {
   "cell_type": "code",
   "execution_count": 84,
   "metadata": {},
   "outputs": [
    {
     "name": "stdout",
     "output_type": "stream",
     "text": [
      "ttest_ind:   t = -7.76095  p = 3.36259e-12\n"
     ]
    }
   ],
   "source": [
    "t, p = ttest_ind(logi_f1, svm_f1)\n",
    "print(\"ttest_ind:   t = %g  p = %g\" % (t, p))"
   ]
  },
  {
   "cell_type": "code",
   "execution_count": 83,
   "metadata": {},
   "outputs": [
    {
     "name": "stdout",
     "output_type": "stream",
     "text": [
      "ttest_ind:   t = -2.15508  p = 0.0331874\n"
     ]
    }
   ],
   "source": [
    "t, p = ttest_ind(rf_f1, svm_f1)\n",
    "print(\"ttest_ind:   t = %g  p = %g\" % (t, p))"
   ]
  },
  {
   "cell_type": "code",
   "execution_count": 87,
   "metadata": {},
   "outputs": [
    {
     "name": "stdout",
     "output_type": "stream",
     "text": [
      "ttest_ind:   t = -6.55232  p = 1.55438e-09\n"
     ]
    }
   ],
   "source": [
    "t, p = ttest_ind(logi_roc, svm_roc)\n",
    "print(\"ttest_ind:   t = %g  p = %g\" % (t, p))"
   ]
  },
  {
   "cell_type": "code",
   "execution_count": 88,
   "metadata": {},
   "outputs": [
    {
     "name": "stdout",
     "output_type": "stream",
     "text": [
      "ttest_ind:   t = -5.99105  p = 2.31829e-08\n"
     ]
    }
   ],
   "source": [
    "t, p = ttest_ind(rf_roc, svm_roc)\n",
    "print(\"ttest_ind:   t = %g  p = %g\" % (t, p))"
   ]
  },
  {
   "cell_type": "code",
   "execution_count": 90,
   "metadata": {},
   "outputs": [
    {
     "name": "stdout",
     "output_type": "stream",
     "text": [
      "ttest_ind:   t = -0.860426  p = 0.391892\n"
     ]
    }
   ],
   "source": [
    "t, p = ttest_ind(svm_adult, logi_adult)\n",
    "print(\"ttest_ind:   t = %g  p = %g\" % (t, p))"
   ]
  },
  {
   "cell_type": "code",
   "execution_count": 92,
   "metadata": {},
   "outputs": [
    {
     "name": "stdout",
     "output_type": "stream",
     "text": [
      "ttest_ind:   t = -1.69799  p = 0.0930434\n"
     ]
    }
   ],
   "source": [
    "t, p = ttest_ind(rf_adult, logi_adult)\n",
    "print(\"ttest_ind:   t = %g  p = %g\" % (t, p))"
   ]
  },
  {
   "cell_type": "code",
   "execution_count": 93,
   "metadata": {},
   "outputs": [
    {
     "name": "stdout",
     "output_type": "stream",
     "text": [
      "ttest_ind:   t = -2.60543  p = 0.010773\n"
     ]
    }
   ],
   "source": [
    "t, p = ttest_ind(logi_cov, svm_cov)\n",
    "print(\"ttest_ind:   t = %g  p = %g\" % (t, p))"
   ]
  },
  {
   "cell_type": "code",
   "execution_count": 94,
   "metadata": {},
   "outputs": [
    {
     "name": "stdout",
     "output_type": "stream",
     "text": [
      "ttest_ind:   t = -2.09077  p = 0.0394324\n"
     ]
    }
   ],
   "source": [
    "t, p = ttest_ind(rf_cov, svm_cov)\n",
    "print(\"ttest_ind:   t = %g  p = %g\" % (t, p))"
   ]
  },
  {
   "cell_type": "code",
   "execution_count": 95,
   "metadata": {},
   "outputs": [
    {
     "name": "stdout",
     "output_type": "stream",
     "text": [
      "ttest_ind:   t = -7.3934  p = 7.88752e-11\n"
     ]
    }
   ],
   "source": [
    "t, p = ttest_ind(logi_letterO, svm_letterO)\n",
    "print(\"ttest_ind:   t = %g  p = %g\" % (t, p))"
   ]
  },
  {
   "cell_type": "code",
   "execution_count": 96,
   "metadata": {},
   "outputs": [
    {
     "name": "stdout",
     "output_type": "stream",
     "text": [
      "ttest_ind:   t = -3.95952  p = 0.000152014\n"
     ]
    }
   ],
   "source": [
    "t, p = ttest_ind(rf_letterO, svm_letterO)\n",
    "print(\"ttest_ind:   t = %g  p = %g\" % (t, p))"
   ]
  },
  {
   "cell_type": "code",
   "execution_count": 97,
   "metadata": {},
   "outputs": [
    {
     "name": "stdout",
     "output_type": "stream",
     "text": [
      "ttest_ind:   t = -368.354  p = 4.38636e-142\n"
     ]
    }
   ],
   "source": [
    "t, p = ttest_ind(logi_letterAM, svm_letterAM)\n",
    "print(\"ttest_ind:   t = %g  p = %g\" % (t, p))"
   ]
  },
  {
   "cell_type": "code",
   "execution_count": 98,
   "metadata": {},
   "outputs": [
    {
     "name": "stdout",
     "output_type": "stream",
     "text": [
      "ttest_ind:   t = -63.7713  p = 1.87982e-75\n"
     ]
    }
   ],
   "source": [
    "t, p = ttest_ind(rf_letterAM, svm_letterAM)\n",
    "print(\"ttest_ind:   t = %g  p = %g\" % (t, p))"
   ]
  },
  {
   "cell_type": "code",
   "execution_count": 101,
   "metadata": {},
   "outputs": [
    {
     "name": "stdout",
     "output_type": "stream",
     "text": [
      "0.7724273163078113\n"
     ]
    }
   ],
   "source": [
    "##training set performance\n",
    "logi_adult_tr = [0.8096,\n",
    "  0.804,\n",
    "  0.804,\n",
    "  0.8074,\n",
    "  0.8074,\n",
    "  0.8074,\n",
    "  0.8162,\n",
    "  0.814,\n",
    "  0.814,\n",
    "  0.8062,\n",
    "  0.8018,\n",
    "  0.8018,\n",
    "  0.8076,\n",
    "  0.8076,\n",
    "  0.8076, #acc\n",
    " 0.6934964584674822,\n",
    "  0.688096753660089,\n",
    "  0.688096753660089,\n",
    "  0.6847790507364975,\n",
    "  0.6847790507364975,\n",
    "  0.6847790507364975,\n",
    "  0.6987872828580793,\n",
    "  0.6962769431743958,\n",
    "  0.6962769431743958,\n",
    "  0.6800924397490921,\n",
    "  0.6751884627990824,\n",
    "  0.6751884627990824,\n",
    "  0.6890756302521008,\n",
    "  0.6890756302521008,\n",
    "  0.6890756302521008, #f1\n",
    " 0.8220463127476628,\n",
    "  0.8193291823142196,\n",
    "  0.8193291823142196,\n",
    "  0.8230977159075551,\n",
    "  0.8230977159075551,\n",
    "  0.8230977159075551,\n",
    "  0.8279333642479396,\n",
    "  0.826465914941643,\n",
    "  0.826465914941643,\n",
    "  0.8225243926213249,\n",
    "  0.8196250779138922,\n",
    "  0.8196250779138922,\n",
    "  0.8189757076216079,\n",
    "  0.8189757076216079,\n",
    "  0.8189757076216079] #roc\n",
    "logi_adult_tr_mean = statistics.mean(logi_adult_tr)\n",
    "print(logi_adult_tr_mean)"
   ]
  },
  {
   "cell_type": "code",
   "execution_count": 102,
   "metadata": {},
   "outputs": [
    {
     "name": "stdout",
     "output_type": "stream",
     "text": [
      "0.7738795112192974\n"
     ]
    }
   ],
   "source": [
    "svm_adult_tr =  [0.802,\n",
    "  0.8054,\n",
    "  0.813,\n",
    "  0.8046,\n",
    "  0.7946,\n",
    "  0.8624,\n",
    "  0.7916,\n",
    "  0.8072,\n",
    "  0.8422,\n",
    "  0.7938,\n",
    "  0.7842,\n",
    "  0.8372,\n",
    "  0.806,\n",
    "  0.806,\n",
    "  0.806,\n",
    " 0.6564885496183207,\n",
    "  0.695270905104917,\n",
    "  0.706436420722135,\n",
    "  0.6374768089053804,\n",
    "  0.6777533730781299,\n",
    "  0.7733860342555995,\n",
    "  0.6610279765777489,\n",
    "  0.69875,\n",
    "  0.7462206497266002,\n",
    "  0.6503899626992201,\n",
    "  0.6656337155252556,\n",
    "  0.7315303430079155,\n",
    "  0.643906020558003,\n",
    "  0.6926489226869456,\n",
    "  0.6926489226869456,\n",
    " 0.7829819187818952,\n",
    "  0.8277876696966953,\n",
    "  0.8367724718692182,\n",
    "  0.7696850925800783,\n",
    "  0.8239951344776321,\n",
    "  0.8948128125422354,\n",
    "  0.7982267859152145,\n",
    "  0.8357599026189899,\n",
    "  0.870275861716238,\n",
    "  0.7942743233402484,\n",
    "  0.8204713123890301,\n",
    "  0.8652931092210709,\n",
    "  0.7685679012972463,\n",
    "  0.824952551634737,\n",
    "  0.824952551634737]\n",
    "svm_adult_tr_mean = statistics.mean(svm_adult_tr)\n",
    "print(svm_adult_tr_mean)"
   ]
  },
  {
   "cell_type": "code",
   "execution_count": 103,
   "metadata": {},
   "outputs": [
    {
     "name": "stdout",
     "output_type": "stream",
     "text": [
      "0.9712199699425321\n"
     ]
    }
   ],
   "source": [
    "rf_adult_tr = [0.9818,\n",
    "  0.9822,\n",
    "  0.98,\n",
    "  0.982,\n",
    "  0.9814,\n",
    "  0.9806,\n",
    "  0.9818,\n",
    "  0.9842,\n",
    "  0.9828,\n",
    "  0.9798,\n",
    "  0.9802,\n",
    "  0.984,\n",
    "  0.9806,\n",
    "  0.9796,\n",
    "  0.9798,\n",
    " 0.9637305699481865,\n",
    "  0.9643572286744093,\n",
    "  0.9600000000000001,\n",
    "  0.9627174813587407,\n",
    "  0.961617829137433,\n",
    "  0.9599007854485325,\n",
    "  0.9631130928252939,\n",
    "  0.9679773003648157,\n",
    "  0.9650122050447518,\n",
    "  0.9573659772055721,\n",
    "  0.9584208315833683,\n",
    "  0.9667221297836939,\n",
    "  0.9610285255122538,\n",
    "  0.9591999999999999,\n",
    "  0.9592577652279145,\n",
    " 0.9717213141560216,\n",
    "  0.9706929484367639,\n",
    "  0.9681807948798611,\n",
    "  0.9707095553453169,\n",
    "  0.9711393431544803,\n",
    "  0.9695066900932559,\n",
    "  0.9708389735441436,\n",
    "  0.9740355665726727,\n",
    "  0.9709740828761495,\n",
    "  0.9663274297988182,\n",
    "  0.9685706505252687,\n",
    "  0.977013544122648,\n",
    "  0.9687384446413174,\n",
    "  0.9688520414854829,\n",
    "  0.9663755456667774]\n",
    "rf_adult_tr_mean = statistics.mean(rf_adult_tr)\n",
    "print(rf_adult_tr_mean)"
   ]
  },
  {
   "cell_type": "code",
   "execution_count": 104,
   "metadata": {},
   "outputs": [
    {
     "name": "stdout",
     "output_type": "stream",
     "text": [
      "ttest_ind:   t = -0.529647  p = 0.597691\n"
     ]
    }
   ],
   "source": [
    "t, p = ttest_ind(logi_adult, logi_adult_tr)\n",
    "print(\"ttest_ind:   t = %g  p = %g\" % (t, p))"
   ]
  },
  {
   "cell_type": "code",
   "execution_count": 105,
   "metadata": {},
   "outputs": [
    {
     "name": "stdout",
     "output_type": "stream",
     "text": [
      "ttest_ind:   t = -1.40444  p = 0.163708\n"
     ]
    }
   ],
   "source": [
    "t, p = ttest_ind(svm_adult, svm_adult_tr)\n",
    "print(\"ttest_ind:   t = %g  p = %g\" % (t, p))"
   ]
  },
  {
   "cell_type": "code",
   "execution_count": 106,
   "metadata": {},
   "outputs": [
    {
     "name": "stdout",
     "output_type": "stream",
     "text": [
      "ttest_ind:   t = -18.5104  p = 4.29884e-32\n"
     ]
    }
   ],
   "source": [
    "t, p = ttest_ind(rf_adult, rf_adult_tr)\n",
    "print(\"ttest_ind:   t = %g  p = %g\" % (t, p))"
   ]
  },
  {
   "cell_type": "code",
   "execution_count": 107,
   "metadata": {},
   "outputs": [
    {
     "name": "stdout",
     "output_type": "stream",
     "text": [
      "0.6859938261438472\n"
     ]
    }
   ],
   "source": [
    "logi_cov_tr = [0.9664,\n",
    "  0.9344,\n",
    "  0.9338,\n",
    "  0.9632,\n",
    "  0.9244,\n",
    "  0.9364,\n",
    "  0.9604,\n",
    "  0.9182,\n",
    "  0.922,\n",
    "  0.9696,\n",
    "  0.929,\n",
    "  0.9368,\n",
    "  0.9662,\n",
    "  0.9314,\n",
    "  0.9452,\n",
    " 0.0,\n",
    "  0.49693251533742333,\n",
    "  0.4946564885496183,\n",
    "  0.0,\n",
    "  0.4821917808219179,\n",
    "  0.5137614678899083,\n",
    "  0.0,\n",
    "  0.4803049555273189,\n",
    "  0.49350649350649345,\n",
    "  0.0,\n",
    "  0.4496124031007752,\n",
    "  0.46801346801346805,\n",
    "  0.0,\n",
    "  0.4763358778625954,\n",
    "  0.5243055555555556,\n",
    " 0.5,\n",
    "  0.9488233207190161,\n",
    "  0.9485128902554399,\n",
    "  0.5,\n",
    "  0.9398472483027589,\n",
    "  0.9251679185324282,\n",
    "  0.5,\n",
    "  0.9356234144863882,\n",
    "  0.940022886087026,\n",
    "  0.5,\n",
    "  0.9410825951016155,\n",
    "  0.9259868421052632,\n",
    "  0.5,\n",
    "  0.9273840421635909,\n",
    "  0.9202500125545203]\n",
    "logi_cov_tr_mean = statistics.mean(logi_cov_tr)\n",
    "print(logi_cov_tr_mean)"
   ]
  },
  {
   "cell_type": "code",
   "execution_count": 108,
   "metadata": {},
   "outputs": [
    {
     "name": "stdout",
     "output_type": "stream",
     "text": [
      "ttest_ind:   t = -0.0782675  p = 0.937793\n"
     ]
    }
   ],
   "source": [
    "t, p = ttest_ind(logi_cov, logi_cov_tr)\n",
    "print(\"ttest_ind:   t = %g  p = %g\" % (t, p))"
   ]
  },
  {
   "cell_type": "code",
   "execution_count": 109,
   "metadata": {},
   "outputs": [
    {
     "name": "stdout",
     "output_type": "stream",
     "text": [
      "0.9294054651740912\n"
     ]
    }
   ],
   "source": [
    "svm_cov_tr = [0.993,\n",
    "  0.9322,\n",
    "  0.9872,\n",
    "  0.9994,\n",
    "  0.9444,\n",
    "  0.9994,\n",
    "  0.9922,\n",
    "  0.9816,\n",
    "  0.9922,\n",
    "  0.9984,\n",
    "  0.9422,\n",
    "  0.9984,\n",
    "  0.9982,\n",
    "  0.9522,\n",
    "  0.9882,\n",
    " 0.9056603773584906,\n",
    "  0.4932735426008969,\n",
    "  0.8400000000000001,\n",
    "  0.9919137466307278,\n",
    "  0.5683229813664596,\n",
    "  0.9919137466307278,\n",
    "  0.9103448275862069,\n",
    "  0.8114754098360656,\n",
    "  0.9103448275862069,\n",
    "  0.9743589743589743,\n",
    "  0.5109983079526227,\n",
    "  0.9743589743589743,\n",
    "  0.9740634005763689,\n",
    "  0.58578856152513,\n",
    "  0.8513853904282116,\n",
    " 0.9963783112582781,\n",
    "  0.9563032166508988,\n",
    "  0.9933774834437087,\n",
    "  0.9996885382059801,\n",
    "  0.9685243030478116,\n",
    "  0.9996885382059801,\n",
    "  0.9959391920033319,\n",
    "  0.990420658059142,\n",
    "  0.9959391920033319,\n",
    "  0.9991749174917492,\n",
    "  0.9670075560187598,\n",
    "  0.9991749174917492,\n",
    "  0.9990685158352308,\n",
    "  0.9752639205133512,\n",
    "  0.9938936038087353]\n",
    "svm_cov_tr_mean = statistics.mean(svm_cov_tr)\n",
    "print(svm_cov_tr_mean)"
   ]
  },
  {
   "cell_type": "code",
   "execution_count": 110,
   "metadata": {},
   "outputs": [
    {
     "name": "stdout",
     "output_type": "stream",
     "text": [
      "ttest_ind:   t = -3.67435  p = 0.000409151\n"
     ]
    }
   ],
   "source": [
    "t, p = ttest_ind(svm_cov, svm_cov_tr)\n",
    "print(\"ttest_ind:   t = %g  p = %g\" % (t, p))"
   ]
  },
  {
   "cell_type": "code",
   "execution_count": 111,
   "metadata": {},
   "outputs": [
    {
     "name": "stdout",
     "output_type": "stream",
     "text": [
      "0.9756384172388232\n"
     ]
    }
   ],
   "source": [
    "rf_cov_tr = [0.998,\n",
    "  0.9978,\n",
    "  0.9976,\n",
    "  0.9976,\n",
    "  0.9974,\n",
    "  0.9974,\n",
    "  0.998,\n",
    "  0.9974,\n",
    "  0.9974,\n",
    "  0.9972,\n",
    "  0.9982,\n",
    "  0.9974,\n",
    "  0.9978,\n",
    "  0.9978,\n",
    "  0.9966,\n",
    " 0.9693251533742331,\n",
    "  0.9661538461538461,\n",
    "  0.9634146341463415,\n",
    "  0.9662921348314606,\n",
    "  0.9633802816901409,\n",
    "  0.9633802816901409,\n",
    "  0.9740932642487047,\n",
    "  0.9660574412532638,\n",
    "  0.9662337662337662,\n",
    "  0.952054794520548,\n",
    "  0.9694915254237287,\n",
    "  0.9553264604810997,\n",
    "  0.9663608562691132,\n",
    "  0.9663608562691132,\n",
    "  0.9470404984423676,\n",
    " 0.9702380952380952,\n",
    "  0.9672619047619048,\n",
    "  0.9700311415957111,\n",
    "  0.9673913043478262,\n",
    "  0.9646739130434783,\n",
    "  0.9646739130434783,\n",
    "  0.9747474747474747,\n",
    "  0.9671717171717171,\n",
    "  0.9695928464150039,\n",
    "  0.9571337067917318,\n",
    "  0.9703947368421053,\n",
    "  0.9572368421052632,\n",
    "  0.9674556213017751,\n",
    "  0.9674556213017751,\n",
    "  0.9497041420118344]\n",
    "rf_cov_tr_mean = statistics.mean(rf_cov_tr)\n",
    "print(rf_cov_tr_mean)"
   ]
  },
  {
   "cell_type": "code",
   "execution_count": 112,
   "metadata": {},
   "outputs": [
    {
     "name": "stdout",
     "output_type": "stream",
     "text": [
      "ttest_ind:   t = -8.53698  p = 3.68057e-13\n"
     ]
    }
   ],
   "source": [
    "t, p = ttest_ind(rf_cov, rf_cov_tr)\n",
    "print(\"ttest_ind:   t = %g  p = %g\" % (t, p))"
   ]
  },
  {
   "cell_type": "code",
   "execution_count": 115,
   "metadata": {},
   "outputs": [
    {
     "name": "stdout",
     "output_type": "stream",
     "text": [
      "0.5751172367796454\n"
     ]
    }
   ],
   "source": [
    "logi_letterO_tr = [0.9594,\n",
    "  0.76,\n",
    "  0.781,\n",
    "  0.9656,\n",
    "  0.7518,\n",
    "  0.774,\n",
    "  0.962,\n",
    "  0.7826,\n",
    "  0.7984,\n",
    "  0.9608,\n",
    "  0.772,\n",
    "  0.7894,\n",
    "  0.9636,\n",
    "  0.753,\n",
    "  0.7714,\n",
    " 0.0,\n",
    "  0.2433795712484237,\n",
    "  0.2545949625595643,\n",
    "  0.0,\n",
    "  0.20499679692504805,\n",
    "  0.21636615811373094,\n",
    "  0.0,\n",
    "  0.24356297842727906,\n",
    "  0.2555391432791728,\n",
    "  0.0,\n",
    "  0.2440318302387268,\n",
    "  0.2579281183932347,\n",
    "  0.0,\n",
    "  0.21587301587301586,\n",
    "  0.2271805273833671,\n",
    " 0.5,\n",
    "  0.851333602384906,\n",
    "  0.8481250083436795,\n",
    "  0.5,\n",
    "  0.8378379029305794,\n",
    "  0.8381196894086819,\n",
    "  0.5,\n",
    "  0.8490918043549622,\n",
    "  0.8522486048801838,\n",
    "  0.5,\n",
    "  0.8519855902394264,\n",
    "  0.8585936039694813,\n",
    "  0.5,\n",
    "  0.8401130832637682,\n",
    "  0.8443736628668136]\n",
    "logi_letterO_tr_mean = statistics.mean(logi_letterO_tr)\n",
    "print(logi_letterO_tr_mean)"
   ]
  },
  {
   "cell_type": "code",
   "execution_count": 116,
   "metadata": {},
   "outputs": [
    {
     "name": "stdout",
     "output_type": "stream",
     "text": [
      "ttest_ind:   t = -0.0552874  p = 0.956035\n"
     ]
    }
   ],
   "source": [
    "t, p = ttest_ind(logi_letterO, logi_letterO_tr)\n",
    "print(\"ttest_ind:   t = %g  p = %g\" % (t, p))"
   ]
  },
  {
   "cell_type": "code",
   "execution_count": 117,
   "metadata": {},
   "outputs": [
    {
     "name": "stdout",
     "output_type": "stream",
     "text": [
      "0.9977677181878193\n"
     ]
    }
   ],
   "source": [
    "svm_letterO_tr =[1.0,\n",
    "  1.0,\n",
    "  1.0,\n",
    "  0.9994,\n",
    "  1.0,\n",
    "  0.9994,\n",
    "  1.0,\n",
    "  1.0,\n",
    "  0.9966,\n",
    "  1.0,\n",
    "  0.9976,\n",
    "  1.0,\n",
    "  1.0,\n",
    "  1.0,\n",
    "  1.0,\n",
    " 1.0,\n",
    "  1.0,\n",
    "  1.0,\n",
    "  0.9913544668587896,\n",
    "  1.0,\n",
    "  0.9913544668587896,\n",
    "  1.0,\n",
    "  1.0,\n",
    "  0.9571788413098236,\n",
    "  1.0,\n",
    "  0.9702970297029703,\n",
    "  1.0,\n",
    "  1.0,\n",
    "  1.0,\n",
    "  1.0,\n",
    " 1.0,\n",
    "  1.0,\n",
    "  1.0,\n",
    "  0.9996893123446562,\n",
    "  1.0,\n",
    "  0.9996893123446562,\n",
    "  1.0,\n",
    "  1.0,\n",
    "  0.9982328482328483,\n",
    "  1.0,\n",
    "  0.998751040799334,\n",
    "  1.0,\n",
    "  1.0,\n",
    "  1.0,\n",
    "  1.0]\n",
    "svm_letterO_tr_mean = statistics.mean(svm_letterO_tr)\n",
    "print(svm_letterO_tr_mean)"
   ]
  },
  {
   "cell_type": "code",
   "execution_count": 118,
   "metadata": {},
   "outputs": [
    {
     "name": "stdout",
     "output_type": "stream",
     "text": [
      "ttest_ind:   t = -7.90597  p = 7.20806e-12\n"
     ]
    }
   ],
   "source": [
    "t, p = ttest_ind(svm_letterO, svm_letterO_tr)\n",
    "print(\"ttest_ind:   t = %g  p = %g\" % (t, p))"
   ]
  },
  {
   "cell_type": "code",
   "execution_count": 119,
   "metadata": {},
   "outputs": [
    {
     "name": "stdout",
     "output_type": "stream",
     "text": [
      "0.9874974341359669\n"
     ]
    }
   ],
   "source": [
    "rf_letterO_tr =[0.9982,\n",
    "  0.9986,\n",
    "  0.9988,\n",
    "  0.9988,\n",
    "  0.999,\n",
    "  0.9988,\n",
    "  0.9984,\n",
    "  0.9986,\n",
    "  0.9988,\n",
    "  0.9992,\n",
    "  0.9988,\n",
    "  0.9988,\n",
    "  0.9982,\n",
    "  0.998,\n",
    "  0.9986,\n",
    " 0.9773299748110832,\n",
    "  0.9824561403508771,\n",
    "  0.985,\n",
    "  0.9822485207100593,\n",
    "  0.9852507374631269,\n",
    "  0.9822485207100593,\n",
    "  0.978494623655914,\n",
    "  0.9812332439678284,\n",
    "  0.983957219251337,\n",
    "  0.9897435897435899,\n",
    "  0.9844559585492229,\n",
    "  0.9844559585492229,\n",
    "  0.9747899159663866,\n",
    "  0.9717514124293786,\n",
    "  0.9803921568627451,\n",
    " 0.9778325123152709,\n",
    "  0.9827586206896552,\n",
    "  0.9852216748768473,\n",
    "  0.9825581395348837,\n",
    "  0.9854651162790697,\n",
    "  0.9825581395348837,\n",
    "  0.9789473684210526,\n",
    "  0.9815789473684211,\n",
    "  0.9842105263157894,\n",
    "  0.9922428588421214,\n",
    "  0.9846938775510203,\n",
    "  0.9846938775510203,\n",
    "  0.9779182005209403,\n",
    "  0.9725274725274725,\n",
    "  0.9807692307692308]\n",
    "rf_letterO_tr_mean = statistics.mean(rf_letterO_tr)\n",
    "print(rf_letterO_tr_mean)"
   ]
  },
  {
   "cell_type": "code",
   "execution_count": 120,
   "metadata": {},
   "outputs": [
    {
     "name": "stdout",
     "output_type": "stream",
     "text": [
      "ttest_ind:   t = -8.90103  p = 6.56269e-14\n"
     ]
    }
   ],
   "source": [
    "t, p = ttest_ind(rf_letterO, rf_letterO_tr)\n",
    "print(\"ttest_ind:   t = %g  p = %g\" % (t, p))"
   ]
  },
  {
   "cell_type": "code",
   "execution_count": 122,
   "metadata": {},
   "outputs": [
    {
     "name": "stdout",
     "output_type": "stream",
     "text": [
      "0.7325644448949958\n"
     ]
    }
   ],
   "source": [
    "logi_letterAM_tr =[0.7358,\n",
    "  0.736,\n",
    "  0.7358,\n",
    "  0.7372,\n",
    "  0.7376,\n",
    "  0.7372,\n",
    "  0.7214,\n",
    "  0.7212,\n",
    "  0.7216,\n",
    "  0.7322,\n",
    "  0.7322,\n",
    "  0.7322,\n",
    "  0.729,\n",
    "  0.7292,\n",
    "  0.729,\n",
    " 0.7388812018185412,\n",
    "  0.7390272835112693,\n",
    "  0.7388812018185412,\n",
    "  0.7414403778040143,\n",
    "  0.7409162717219591,\n",
    "  0.7414403778040143,\n",
    "  0.7264873355586098,\n",
    "  0.7253743104806935,\n",
    "  0.7266300078554596,\n",
    "  0.7359495168605799,\n",
    "  0.7359495168605799,\n",
    "  0.7359495168605799,\n",
    "  0.7344699196551048,\n",
    "  0.7341970946211229,\n",
    "  0.7344699196551048,\n",
    " 0.7359608328068926,\n",
    "  0.7361590881597871,\n",
    "  0.7359608328068926,\n",
    "  0.7371312764368292,\n",
    "  0.7375514496134599,\n",
    "  0.7371312764368292,\n",
    "  0.7213656854627417,\n",
    "  0.7211724846899388,\n",
    "  0.721566086264345,\n",
    "  0.732252938270088,\n",
    "  0.732252938270088,\n",
    "  0.732252938270088,\n",
    "  0.7289234719584171,\n",
    "  0.7291313959838261,\n",
    "  0.7289234719584171]\n",
    "logi_letterAM_tr_mean = statistics.mean(logi_letterAM_tr)\n",
    "print(logi_letterAM_tr_mean)"
   ]
  },
  {
   "cell_type": "code",
   "execution_count": 123,
   "metadata": {},
   "outputs": [
    {
     "name": "stdout",
     "output_type": "stream",
     "text": [
      "ttest_ind:   t = -3.71802  p = 0.00035263\n"
     ]
    }
   ],
   "source": [
    "t, p = ttest_ind(logi_letterAM, logi_letterAM_tr)\n",
    "print(\"ttest_ind:   t = %g  p = %g\" % (t, p))"
   ]
  },
  {
   "cell_type": "code",
   "execution_count": 124,
   "metadata": {},
   "outputs": [
    {
     "name": "stdout",
     "output_type": "stream",
     "text": [
      "1.0\n"
     ]
    }
   ],
   "source": [
    "svm_letterAM_tr=[1.0, 1.0, 1.0, 1.0, 1.0, 1.0, 1.0, 1.0, 1.0, 1.0, 1.0, 1.0, 1.0, 1.0, 1.0,\n",
    "1.0, 1.0, 1.0, 1.0, 1.0, 1.0, 1.0, 1.0, 1.0, 1.0, 1.0, 1.0, 1.0, 1.0, 1.0,\n",
    " 1.0, 1.0, 1.0, 1.0, 1.0, 1.0, 1.0, 1.0, 1.0, 1.0, 1.0, 1.0, 1.0, 1.0, 1.0]\n",
    "svm_letterAM_tr_mean = statistics.mean(svm_letterAM_tr)\n",
    "print(svm_letterAM_tr_mean)"
   ]
  },
  {
   "cell_type": "code",
   "execution_count": 125,
   "metadata": {},
   "outputs": [
    {
     "name": "stdout",
     "output_type": "stream",
     "text": [
      "ttest_ind:   t = -167.551  p = 5.03061e-112\n"
     ]
    }
   ],
   "source": [
    "t, p = ttest_ind(svm_letterAM, svm_letterAM_tr)\n",
    "print(\"ttest_ind:   t = %g  p = %g\" % (t, p))"
   ]
  },
  {
   "cell_type": "code",
   "execution_count": 126,
   "metadata": {},
   "outputs": [
    {
     "name": "stdout",
     "output_type": "stream",
     "text": [
      "0.9973049436581259\n"
     ]
    }
   ],
   "source": [
    "rf_letterAM_tr=[0.998,\n",
    "  0.9968,\n",
    "  0.9964,\n",
    "  0.9978,\n",
    "  0.9966,\n",
    "  0.996,\n",
    "  0.9982,\n",
    "  0.998,\n",
    "  0.9978,\n",
    "  0.9968,\n",
    "  0.9974,\n",
    "  0.999,\n",
    "  0.9962,\n",
    "  0.9984,\n",
    "  0.9962,\n",
    " 0.9979822437449556,\n",
    "  0.9967611336032389,\n",
    "  0.9963577498988264,\n",
    "  0.9978083283522614,\n",
    "  0.9966142202748456,\n",
    "  0.9960111687275628,\n",
    "  0.9982017982017982,\n",
    "  0.998003992015968,\n",
    "  0.9978021978021978,\n",
    "  0.9967832730197024,\n",
    "  0.9973858837723707,\n",
    "  0.9989965884005618,\n",
    "  0.9962068277101218,\n",
    "  0.9984063745019921,\n",
    "  0.9962083416483736,\n",
    "0.9979998451080052,\n",
    " 0.9967715899919289,\n",
    "  0.9963750792861399,\n",
    "  0.997810011321955,\n",
    "  0.9966077336185264,\n",
    "  0.9960155550478064,\n",
    "  0.9982019928079713,\n",
    "  0.9979999919999679,\n",
    "  0.9978019912079649,\n",
    "  0.9967935671661278,\n",
    "  0.9973929333036371,\n",
    "  0.9989993497533415,\n",
    "  0.9962113666520583,\n",
    "  0.9984017290574745,\n",
    "  0.9962096066179842]\n",
    "rf_letterAM_tr_mean = statistics.mean(rf_letterAM_tr)\n",
    "print(rf_letterAM_tr_mean)"
   ]
  },
  {
   "cell_type": "code",
   "execution_count": 127,
   "metadata": {},
   "outputs": [
    {
     "name": "stdout",
     "output_type": "stream",
     "text": [
      "ttest_ind:   t = -113.863  p = 2.48964e-97\n"
     ]
    }
   ],
   "source": [
    "t, p = ttest_ind(rf_letterAM, rf_letterAM_tr)\n",
    "print(\"ttest_ind:   t = %g  p = %g\" % (t, p))"
   ]
  },
  {
   "cell_type": "code",
   "execution_count": null,
   "metadata": {},
   "outputs": [],
   "source": []
  }
 ],
 "metadata": {
  "kernelspec": {
   "display_name": "Python 3",
   "language": "python",
   "name": "python3"
  },
  "language_info": {
   "codemirror_mode": {
    "name": "ipython",
    "version": 3
   },
   "file_extension": ".py",
   "mimetype": "text/x-python",
   "name": "python",
   "nbconvert_exporter": "python",
   "pygments_lexer": "ipython3",
   "version": "3.7.3"
  }
 },
 "nbformat": 4,
 "nbformat_minor": 2
}
